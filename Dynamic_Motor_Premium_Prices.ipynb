{
  "nbformat": 4,
  "nbformat_minor": 0,
  "metadata": {
    "colab": {
      "name": "Munich RE.ipynb",
      "provenance": [],
      "collapsed_sections": [
        "gbES7s2E79cg",
        "vzKj5aHUbPXl",
        "3MDtwptucFdh",
        "47ymoqRfaRNj",
        "dDS2umiI8Nuv",
        "TZuAru5DDQNE",
        "dbsbk1OS_KMC",
        "zq3oYV4uBkkS",
        "rfqd9388E0yl",
        "mtQImks6Mz1e"
      ],
      "toc_visible": true,
      "authorship_tag": "ABX9TyP5Aii/oh3+pIYyzo2kSVUG",
      "include_colab_link": true
    },
    "kernelspec": {
      "display_name": "Python 3",
      "name": "python3"
    },
    "language_info": {
      "name": "python"
    }
  },
  "cells": [
    {
      "cell_type": "markdown",
      "metadata": {
        "id": "view-in-github",
        "colab_type": "text"
      },
      "source": [
        "<a href=\"https://colab.research.google.com/github/insanramadhan24/Dynamic_Insurance_Premium/blob/main/Dynamic_Motor_Premium_Prices.ipynb\" target=\"_parent\"><img src=\"https://colab.research.google.com/assets/colab-badge.svg\" alt=\"Open In Colab\"/></a>"
      ]
    },
    {
      "cell_type": "markdown",
      "metadata": {
        "id": "5oZc_dTRNyVY"
      },
      "source": [
        "# Problem Statement and Business Understanding"
      ]
    },
    {
      "cell_type": "markdown",
      "metadata": {
        "id": "i7ShFCge28Td"
      },
      "source": [
        "To maximize the profit for Insurance company, company need to really careful on calculating the premium price. If the premium is too high the customer will move to competitor, and if it is too low the risk of getting high loss ratio is increase as well\n",
        "\n",
        "Using dynamic premium pricing, first we identify customer with high probability of claim and apply certain loading to the premium. Using this method, insurance also can avoid bad business by giving high premium rates for certain customer only."
      ]
    },
    {
      "cell_type": "markdown",
      "metadata": {
        "id": "vSOLAx9Oa4sx"
      },
      "source": [
        "# Environment Preparation"
      ]
    },
    {
      "cell_type": "markdown",
      "metadata": {
        "id": "gbES7s2E79cg"
      },
      "source": [
        "## Import Library"
      ]
    },
    {
      "cell_type": "code",
      "metadata": {
        "colab": {
          "base_uri": "https://localhost:8080/"
        },
        "id": "PjdKq0l_f8D0",
        "outputId": "eb7b7d4b-6fd2-4755-8838-b21d980f2786"
      },
      "source": [
        "!pip install --upgrade pandas-gbq\n",
        "!pip install category_encoders\n",
        "!pip install shap"
      ],
      "execution_count": 2,
      "outputs": [
        {
          "output_type": "stream",
          "name": "stdout",
          "text": [
            "Requirement already satisfied: pandas-gbq in /usr/local/lib/python3.7/dist-packages (0.13.3)\n",
            "Collecting pandas-gbq\n",
            "  Downloading pandas_gbq-0.16.0-py2.py3-none-any.whl (23 kB)\n",
            "Requirement already satisfied: numpy>=1.16.6 in /usr/local/lib/python3.7/dist-packages (from pandas-gbq) (1.19.5)\n",
            "Requirement already satisfied: pydata-google-auth in /usr/local/lib/python3.7/dist-packages (from pandas-gbq) (1.2.0)\n",
            "Requirement already satisfied: google-cloud-bigquery[bqstorage,pandas]!=2.4.*,<3.0.0dev,>=1.11.1 in /usr/local/lib/python3.7/dist-packages (from pandas-gbq) (1.21.0)\n",
            "Requirement already satisfied: google-auth-oauthlib in /usr/local/lib/python3.7/dist-packages (from pandas-gbq) (0.4.6)\n",
            "Requirement already satisfied: pandas>=0.23.2 in /usr/local/lib/python3.7/dist-packages (from pandas-gbq) (1.1.5)\n",
            "Requirement already satisfied: setuptools in /usr/local/lib/python3.7/dist-packages (from pandas-gbq) (57.4.0)\n",
            "Requirement already satisfied: google-auth in /usr/local/lib/python3.7/dist-packages (from pandas-gbq) (1.35.0)\n",
            "Requirement already satisfied: pyarrow<7.0dev,>=3.0.0 in /usr/local/lib/python3.7/dist-packages (from pandas-gbq) (3.0.0)\n",
            "Requirement already satisfied: protobuf>=3.6.0 in /usr/local/lib/python3.7/dist-packages (from google-cloud-bigquery[bqstorage,pandas]!=2.4.*,<3.0.0dev,>=1.11.1->pandas-gbq) (3.17.3)\n",
            "Requirement already satisfied: google-resumable-media!=0.4.0,<0.5.0dev,>=0.3.1 in /usr/local/lib/python3.7/dist-packages (from google-cloud-bigquery[bqstorage,pandas]!=2.4.*,<3.0.0dev,>=1.11.1->pandas-gbq) (0.4.1)\n",
            "Requirement already satisfied: google-cloud-core<2.0dev,>=1.0.3 in /usr/local/lib/python3.7/dist-packages (from google-cloud-bigquery[bqstorage,pandas]!=2.4.*,<3.0.0dev,>=1.11.1->pandas-gbq) (1.0.3)\n",
            "Requirement already satisfied: google-cloud-bigquery-storage<2.0.0dev,>=0.6.0 in /usr/local/lib/python3.7/dist-packages (from google-cloud-bigquery[bqstorage,pandas]!=2.4.*,<3.0.0dev,>=1.11.1->pandas-gbq) (1.1.0)\n",
            "Requirement already satisfied: google-api-core[grpc]<2.0.0dev,>=1.14.0 in /usr/local/lib/python3.7/dist-packages (from google-cloud-bigquery-storage<2.0.0dev,>=0.6.0->google-cloud-bigquery[bqstorage,pandas]!=2.4.*,<3.0.0dev,>=1.11.1->pandas-gbq) (1.26.3)\n",
            "Requirement already satisfied: six>=1.13.0 in /usr/local/lib/python3.7/dist-packages (from google-api-core[grpc]<2.0.0dev,>=1.14.0->google-cloud-bigquery-storage<2.0.0dev,>=0.6.0->google-cloud-bigquery[bqstorage,pandas]!=2.4.*,<3.0.0dev,>=1.11.1->pandas-gbq) (1.15.0)\n",
            "Requirement already satisfied: packaging>=14.3 in /usr/local/lib/python3.7/dist-packages (from google-api-core[grpc]<2.0.0dev,>=1.14.0->google-cloud-bigquery-storage<2.0.0dev,>=0.6.0->google-cloud-bigquery[bqstorage,pandas]!=2.4.*,<3.0.0dev,>=1.11.1->pandas-gbq) (21.2)\n",
            "Requirement already satisfied: googleapis-common-protos<2.0dev,>=1.6.0 in /usr/local/lib/python3.7/dist-packages (from google-api-core[grpc]<2.0.0dev,>=1.14.0->google-cloud-bigquery-storage<2.0.0dev,>=0.6.0->google-cloud-bigquery[bqstorage,pandas]!=2.4.*,<3.0.0dev,>=1.11.1->pandas-gbq) (1.53.0)\n",
            "Requirement already satisfied: requests<3.0.0dev,>=2.18.0 in /usr/local/lib/python3.7/dist-packages (from google-api-core[grpc]<2.0.0dev,>=1.14.0->google-cloud-bigquery-storage<2.0.0dev,>=0.6.0->google-cloud-bigquery[bqstorage,pandas]!=2.4.*,<3.0.0dev,>=1.11.1->pandas-gbq) (2.23.0)\n",
            "Requirement already satisfied: pytz in /usr/local/lib/python3.7/dist-packages (from google-api-core[grpc]<2.0.0dev,>=1.14.0->google-cloud-bigquery-storage<2.0.0dev,>=0.6.0->google-cloud-bigquery[bqstorage,pandas]!=2.4.*,<3.0.0dev,>=1.11.1->pandas-gbq) (2018.9)\n",
            "Requirement already satisfied: grpcio<2.0dev,>=1.29.0 in /usr/local/lib/python3.7/dist-packages (from google-api-core[grpc]<2.0.0dev,>=1.14.0->google-cloud-bigquery-storage<2.0.0dev,>=0.6.0->google-cloud-bigquery[bqstorage,pandas]!=2.4.*,<3.0.0dev,>=1.11.1->pandas-gbq) (1.41.1)\n",
            "Requirement already satisfied: pyasn1-modules>=0.2.1 in /usr/local/lib/python3.7/dist-packages (from google-auth->pandas-gbq) (0.2.8)\n",
            "Requirement already satisfied: cachetools<5.0,>=2.0.0 in /usr/local/lib/python3.7/dist-packages (from google-auth->pandas-gbq) (4.2.4)\n",
            "Requirement already satisfied: rsa<5,>=3.1.4 in /usr/local/lib/python3.7/dist-packages (from google-auth->pandas-gbq) (4.7.2)\n",
            "Requirement already satisfied: pyparsing<3,>=2.0.2 in /usr/local/lib/python3.7/dist-packages (from packaging>=14.3->google-api-core[grpc]<2.0.0dev,>=1.14.0->google-cloud-bigquery-storage<2.0.0dev,>=0.6.0->google-cloud-bigquery[bqstorage,pandas]!=2.4.*,<3.0.0dev,>=1.11.1->pandas-gbq) (2.4.7)\n",
            "Requirement already satisfied: python-dateutil>=2.7.3 in /usr/local/lib/python3.7/dist-packages (from pandas>=0.23.2->pandas-gbq) (2.8.2)\n",
            "Requirement already satisfied: pyasn1<0.5.0,>=0.4.6 in /usr/local/lib/python3.7/dist-packages (from pyasn1-modules>=0.2.1->google-auth->pandas-gbq) (0.4.8)\n",
            "Requirement already satisfied: chardet<4,>=3.0.2 in /usr/local/lib/python3.7/dist-packages (from requests<3.0.0dev,>=2.18.0->google-api-core[grpc]<2.0.0dev,>=1.14.0->google-cloud-bigquery-storage<2.0.0dev,>=0.6.0->google-cloud-bigquery[bqstorage,pandas]!=2.4.*,<3.0.0dev,>=1.11.1->pandas-gbq) (3.0.4)\n",
            "Requirement already satisfied: idna<3,>=2.5 in /usr/local/lib/python3.7/dist-packages (from requests<3.0.0dev,>=2.18.0->google-api-core[grpc]<2.0.0dev,>=1.14.0->google-cloud-bigquery-storage<2.0.0dev,>=0.6.0->google-cloud-bigquery[bqstorage,pandas]!=2.4.*,<3.0.0dev,>=1.11.1->pandas-gbq) (2.10)\n",
            "Requirement already satisfied: urllib3!=1.25.0,!=1.25.1,<1.26,>=1.21.1 in /usr/local/lib/python3.7/dist-packages (from requests<3.0.0dev,>=2.18.0->google-api-core[grpc]<2.0.0dev,>=1.14.0->google-cloud-bigquery-storage<2.0.0dev,>=0.6.0->google-cloud-bigquery[bqstorage,pandas]!=2.4.*,<3.0.0dev,>=1.11.1->pandas-gbq) (1.24.3)\n",
            "Requirement already satisfied: certifi>=2017.4.17 in /usr/local/lib/python3.7/dist-packages (from requests<3.0.0dev,>=2.18.0->google-api-core[grpc]<2.0.0dev,>=1.14.0->google-cloud-bigquery-storage<2.0.0dev,>=0.6.0->google-cloud-bigquery[bqstorage,pandas]!=2.4.*,<3.0.0dev,>=1.11.1->pandas-gbq) (2021.10.8)\n",
            "Requirement already satisfied: requests-oauthlib>=0.7.0 in /usr/local/lib/python3.7/dist-packages (from google-auth-oauthlib->pandas-gbq) (1.3.0)\n",
            "Requirement already satisfied: oauthlib>=3.0.0 in /usr/local/lib/python3.7/dist-packages (from requests-oauthlib>=0.7.0->google-auth-oauthlib->pandas-gbq) (3.1.1)\n",
            "Installing collected packages: pandas-gbq\n",
            "  Attempting uninstall: pandas-gbq\n",
            "    Found existing installation: pandas-gbq 0.13.3\n",
            "    Uninstalling pandas-gbq-0.13.3:\n",
            "      Successfully uninstalled pandas-gbq-0.13.3\n",
            "Successfully installed pandas-gbq-0.16.0\n",
            "Collecting category_encoders\n",
            "  Downloading category_encoders-2.3.0-py2.py3-none-any.whl (82 kB)\n",
            "\u001b[K     |████████████████████████████████| 82 kB 365 kB/s \n",
            "\u001b[?25hRequirement already satisfied: scikit-learn>=0.20.0 in /usr/local/lib/python3.7/dist-packages (from category_encoders) (0.22.2.post1)\n",
            "Requirement already satisfied: statsmodels>=0.9.0 in /usr/local/lib/python3.7/dist-packages (from category_encoders) (0.10.2)\n",
            "Requirement already satisfied: pandas>=0.21.1 in /usr/local/lib/python3.7/dist-packages (from category_encoders) (1.1.5)\n",
            "Requirement already satisfied: numpy>=1.14.0 in /usr/local/lib/python3.7/dist-packages (from category_encoders) (1.19.5)\n",
            "Requirement already satisfied: scipy>=1.0.0 in /usr/local/lib/python3.7/dist-packages (from category_encoders) (1.4.1)\n",
            "Requirement already satisfied: patsy>=0.5.1 in /usr/local/lib/python3.7/dist-packages (from category_encoders) (0.5.2)\n",
            "Requirement already satisfied: python-dateutil>=2.7.3 in /usr/local/lib/python3.7/dist-packages (from pandas>=0.21.1->category_encoders) (2.8.2)\n",
            "Requirement already satisfied: pytz>=2017.2 in /usr/local/lib/python3.7/dist-packages (from pandas>=0.21.1->category_encoders) (2018.9)\n",
            "Requirement already satisfied: six in /usr/local/lib/python3.7/dist-packages (from patsy>=0.5.1->category_encoders) (1.15.0)\n",
            "Requirement already satisfied: joblib>=0.11 in /usr/local/lib/python3.7/dist-packages (from scikit-learn>=0.20.0->category_encoders) (1.1.0)\n",
            "Installing collected packages: category-encoders\n",
            "Successfully installed category-encoders-2.3.0\n",
            "Collecting shap\n",
            "  Downloading shap-0.40.0.tar.gz (371 kB)\n",
            "\u001b[K     |████████████████████████████████| 371 kB 30.5 MB/s \n",
            "\u001b[?25h  Installing build dependencies ... \u001b[?25l\u001b[?25hdone\n",
            "  Getting requirements to build wheel ... \u001b[?25l\u001b[?25hdone\n",
            "    Preparing wheel metadata ... \u001b[?25l\u001b[?25hdone\n",
            "Requirement already satisfied: scikit-learn in /usr/local/lib/python3.7/dist-packages (from shap) (0.22.2.post1)\n",
            "Requirement already satisfied: numpy in /usr/local/lib/python3.7/dist-packages (from shap) (1.19.5)\n",
            "Requirement already satisfied: tqdm>4.25.0 in /usr/local/lib/python3.7/dist-packages (from shap) (4.62.3)\n",
            "Requirement already satisfied: numba in /usr/local/lib/python3.7/dist-packages (from shap) (0.51.2)\n",
            "Requirement already satisfied: scipy in /usr/local/lib/python3.7/dist-packages (from shap) (1.4.1)\n",
            "Requirement already satisfied: pandas in /usr/local/lib/python3.7/dist-packages (from shap) (1.1.5)\n",
            "Requirement already satisfied: packaging>20.9 in /usr/local/lib/python3.7/dist-packages (from shap) (21.2)\n",
            "Collecting slicer==0.0.7\n",
            "  Downloading slicer-0.0.7-py3-none-any.whl (14 kB)\n",
            "Requirement already satisfied: cloudpickle in /usr/local/lib/python3.7/dist-packages (from shap) (1.3.0)\n",
            "Requirement already satisfied: pyparsing<3,>=2.0.2 in /usr/local/lib/python3.7/dist-packages (from packaging>20.9->shap) (2.4.7)\n",
            "Requirement already satisfied: llvmlite<0.35,>=0.34.0.dev0 in /usr/local/lib/python3.7/dist-packages (from numba->shap) (0.34.0)\n",
            "Requirement already satisfied: setuptools in /usr/local/lib/python3.7/dist-packages (from numba->shap) (57.4.0)\n",
            "Requirement already satisfied: pytz>=2017.2 in /usr/local/lib/python3.7/dist-packages (from pandas->shap) (2018.9)\n",
            "Requirement already satisfied: python-dateutil>=2.7.3 in /usr/local/lib/python3.7/dist-packages (from pandas->shap) (2.8.2)\n",
            "Requirement already satisfied: six>=1.5 in /usr/local/lib/python3.7/dist-packages (from python-dateutil>=2.7.3->pandas->shap) (1.15.0)\n",
            "Requirement already satisfied: joblib>=0.11 in /usr/local/lib/python3.7/dist-packages (from scikit-learn->shap) (1.1.0)\n",
            "Building wheels for collected packages: shap\n",
            "  Building wheel for shap (PEP 517) ... \u001b[?25l\u001b[?25hdone\n",
            "  Created wheel for shap: filename=shap-0.40.0-cp37-cp37m-linux_x86_64.whl size=509234 sha256=2605648dd486b7d9b3c4eec13b3350f49af57b927e8ff7081eb7594ba569d399\n",
            "  Stored in directory: /root/.cache/pip/wheels/ec/35/84/e304841ac4b910bc95fe9a6e5302eb2507b4333728851dcbfb\n",
            "Successfully built shap\n",
            "Installing collected packages: slicer, shap\n",
            "Successfully installed shap-0.40.0 slicer-0.0.7\n"
          ]
        }
      ]
    },
    {
      "cell_type": "code",
      "metadata": {
        "colab": {
          "base_uri": "https://localhost:8080/"
        },
        "id": "DvYDlMyTas-8",
        "outputId": "a3730111-ea65-4d29-9b7b-36cdab09106b"
      },
      "source": [
        "import pandas as pd #library to wrangling the data\n",
        "import numpy as np #library to manipulating data\n",
        "import seaborn as sns #library for visualization\n",
        "import matplotlib.pyplot as plt #library for visualization\n",
        "from sklearn.preprocessing import StandardScaler #Scaling variable\n",
        "from sklearn.model_selection import train_test_split #split training and testing data\n",
        "from sklearn.model_selection import cross_validate, GridSearchCV, RandomizedSearchCV\n",
        "\n",
        "# Feature Engineering\n",
        "import category_encoders as ce\n",
        "\n",
        "# model creation\n",
        "from sklearn.tree import DecisionTreeClassifier #Decision Tree\n",
        "from sklearn.ensemble import RandomForestClassifier #Random Forest \n",
        "import xgboost\n",
        "\n",
        "# model evaluation\n",
        "from sklearn.metrics import confusion_matrix\n",
        "from sklearn.metrics import accuracy_score\n",
        "from sklearn.metrics import precision_score\n",
        "from sklearn.metrics import recall_score\n",
        "from sklearn.metrics import roc_auc_score\n",
        "from sklearn.metrics import f1_score\n",
        "import shap\n",
        "\n",
        "# Plot\n",
        "import matplotlib.pyplot as plt\n",
        "import seaborn as sns\n",
        "\n",
        "pd.options.display.float_format = '{:,.2f}'.format #formating of the number\n",
        "import warnings\n",
        "warnings.filterwarnings('ignore')"
      ],
      "execution_count": 3,
      "outputs": [
        {
          "output_type": "stream",
          "name": "stderr",
          "text": [
            "/usr/local/lib/python3.7/dist-packages/statsmodels/tools/_testing.py:19: FutureWarning: pandas.util.testing is deprecated. Use the functions in the public API at pandas.testing instead.\n",
            "  import pandas.util.testing as tm\n"
          ]
        }
      ]
    },
    {
      "cell_type": "code",
      "metadata": {
        "colab": {
          "base_uri": "https://localhost:8080/"
        },
        "id": "L4DekbLhbEIe",
        "outputId": "eab09ff9-5872-41ab-d85b-e69a01eb770c"
      },
      "source": [
        "from google.colab import drive # to extract data from google drive\n",
        "drive.mount('/content/gdrive')"
      ],
      "execution_count": 4,
      "outputs": [
        {
          "output_type": "stream",
          "name": "stdout",
          "text": [
            "Mounted at /content/gdrive\n"
          ]
        }
      ]
    },
    {
      "cell_type": "markdown",
      "metadata": {
        "id": "vzKj5aHUbPXl"
      },
      "source": [
        "## Load all the data"
      ]
    },
    {
      "cell_type": "code",
      "metadata": {
        "id": "fPocoiyQbM7e"
      },
      "source": [
        "df_customer = pd.read_csv('gdrive/MyDrive/Data_Science/munich re/Data/customer.csv')\n",
        "df_historical_claims = pd.read_csv('gdrive/MyDrive/Data_Science/munich re/Data/historical_claims.csv')\n",
        "df_open_claims = pd.read_csv('gdrive/MyDrive/Data_Science/munich re/Data/open_claims.csv')\n",
        "df_policies_new = pd.read_csv('gdrive/MyDrive/Data_Science/munich re/Data/policies_new.csv')\n",
        "df_vehicle_new = pd.read_csv('gdrive/MyDrive/Data_Science/munich re/Data/vehicle_new.csv')"
      ],
      "execution_count": 5,
      "outputs": []
    },
    {
      "cell_type": "markdown",
      "metadata": {
        "id": "3MDtwptucFdh"
      },
      "source": [
        "# Create data pipeline"
      ]
    },
    {
      "cell_type": "markdown",
      "metadata": {
        "id": "OFzvV9aJr24h"
      },
      "source": [
        "Create a datamart by combining all table, using the join key\n",
        "\n"
      ]
    },
    {
      "cell_type": "code",
      "metadata": {
        "colab": {
          "base_uri": "https://localhost:8080/"
        },
        "id": "JG3GUf91cEEW",
        "outputId": "48baee3e-2b6b-4b3e-c692-c271eca87b79"
      },
      "source": [
        "from google.colab import auth\n",
        "auth.authenticate_user()\n",
        "\n",
        "# https://cloud.google.com/resource-manager/docs/creating-managing-projects\n",
        "project_id = 'munichre-331712'\n",
        "!gcloud config set project munichre-331712"
      ],
      "execution_count": 6,
      "outputs": [
        {
          "output_type": "stream",
          "name": "stdout",
          "text": [
            "Updated property [core/project].\n"
          ]
        }
      ]
    },
    {
      "cell_type": "code",
      "metadata": {
        "id": "eLzGDPQYeA8B"
      },
      "source": [
        "from google.cloud import bigquery, storage\n",
        "\n",
        "client = storage.Client('munichre-331712')"
      ],
      "execution_count": 7,
      "outputs": []
    },
    {
      "cell_type": "code",
      "metadata": {
        "id": "aT1iqhcKkTcb"
      },
      "source": [
        "df_claims_per_policy = pd.pivot_table(df_historical_claims,\n",
        "                                      index='POLICY_IDENTIFIER',\n",
        "                                      aggfunc={'TOTAL_CLAIM_PAID_AMOUNT':'sum',\n",
        "                                               'CLAIM_PAID_AMOUNT_INSURER':'count'}).reset_index()\n",
        "df_claims_per_policy.rename(columns={'TOTAL_CLAIM_PAID_AMOUNT':'CLAIM_AMOUNT','CLAIM_PAID_AMOUNT_INSURER':'CLAIM_COUNT'},inplace=True)"
      ],
      "execution_count": 8,
      "outputs": []
    },
    {
      "cell_type": "code",
      "metadata": {
        "id": "MtQDfPDQP4Mu"
      },
      "source": [
        "temp1 = pd.merge(df_policies_new,df_claims_per_policy,how='left',on='POLICY_IDENTIFIER',suffixes=('_policy','_claim'))\n",
        "temp2 = pd.merge(temp1,df_vehicle_new,how='left',on='VEHICLE_IDENTIFIER')\n",
        "temp3 = pd.merge(temp2,df_customer,how='left',on='CUSTOMER_IDENTIFIER')"
      ],
      "execution_count": 9,
      "outputs": []
    },
    {
      "cell_type": "code",
      "metadata": {
        "id": "JlC8n6FhcML9"
      },
      "source": [
        "bucket = client.get_bucket('munich_re_dev')\n",
        "# bucket.blob('data/datamart.csv').upload_from_string(temp3.to_csv(), 'text/csv')"
      ],
      "execution_count": 10,
      "outputs": []
    },
    {
      "cell_type": "code",
      "metadata": {
        "id": "L1pt79J38U5-"
      },
      "source": [
        "datamart = temp3.copy()"
      ],
      "execution_count": 11,
      "outputs": []
    },
    {
      "cell_type": "markdown",
      "metadata": {
        "id": "PDar2noz8Czr"
      },
      "source": [
        "# Dynamic Insurance Pricing"
      ]
    },
    {
      "cell_type": "markdown",
      "metadata": {
        "id": "47ymoqRfaRNj"
      },
      "source": [
        "## Data Cleansing"
      ]
    },
    {
      "cell_type": "code",
      "metadata": {
        "colab": {
          "base_uri": "https://localhost:8080/"
        },
        "id": "NjwyTQ2naSg9",
        "outputId": "754f028c-df75-4ea3-87e2-2fe05f36629f"
      },
      "source": [
        "# Check Missing Value\n",
        "datamart.isna().sum()"
      ],
      "execution_count": 12,
      "outputs": [
        {
          "output_type": "execute_result",
          "data": {
            "text/plain": [
              "POLICY_WRITTEN_BRANCH          0\n",
              "POLICY_IDENTIFIER              0\n",
              "PREVIOUS_INSURER_NAME          0\n",
              "POLICY_START_DATE              0\n",
              "POLICY_END_DATE                0\n",
              "CANCELLATION_DATE        1780000\n",
              "SUM_INSURED                    0\n",
              "GWP                            0\n",
              "COMPULSORY_DEDUCTABLE          0\n",
              "PRODUCT                        0\n",
              "PRODUCT_CODE                   0\n",
              "VEHICLE_IDENTIFIER             0\n",
              "CLAIM_COUNT              2837875\n",
              "CLAIM_AMOUNT             2837875\n",
              "YEAR_OF_MANUFACTURE            0\n",
              "MAKE_OF_VEHICLE                0\n",
              "VEHICLE_TYPE                   0\n",
              "SEATING_CAPACITY               0\n",
              "ENGINE_SIZE_CC                 0\n",
              "VEHICLE_GROSS_WEIGHT           0\n",
              "CUSTOMER_IDENTIFIER            0\n",
              "GENDER                         0\n",
              "DRIVING_EXPERIENCE             0\n",
              "dtype: int64"
            ]
          },
          "metadata": {},
          "execution_count": 12
        }
      ]
    },
    {
      "cell_type": "code",
      "metadata": {
        "colab": {
          "base_uri": "https://localhost:8080/",
          "height": 0
        },
        "id": "bIqXZT4JagLu",
        "outputId": "f1124c77-186a-4f12-fe00-3e47689ed0de"
      },
      "source": [
        "# Check Outlier in Sum Insured\n",
        "fig = plt.figure(figsize=(10,10))\n",
        "ax = fig.add_subplot(2, 1, 1)\n",
        "sns.boxplot(x=datamart.SUM_INSURED,y = datamart.VEHICLE_TYPE)\n",
        "ax.set_xscale('log')\n",
        "plt.show()"
      ],
      "execution_count": 13,
      "outputs": [
        {
          "output_type": "display_data",
          "data": {
            "image/png": "[encoded data removed]",
            "text/plain": [
              "<Figure size 720x720 with 1 Axes>"
            ]
          },
          "metadata": {
            "needs_background": "light"
          }
        }
      ]
    },
    {
      "cell_type": "code",
      "metadata": {
        "id": "zTE2q4XGeqaw"
      },
      "source": [
        "# Remove Outlier in Sum Insured, replace it with max value\n",
        "\n",
        "temp = datamart[['POLICY_IDENTIFIER','SUM_INSURED','VEHICLE_TYPE']]\n",
        "result = []\n",
        "\n",
        "def calculate_upper_wisker(data):\n",
        "  Q1 = np.percentile(data, 25)\n",
        "  Q3 = np.percentile(data, 75)\n",
        "  Range = Q3 - Q1\n",
        "  U = Q3 + 1.5 * Range\n",
        "  return U \n",
        "\n",
        "for vehicle in temp.VEHICLE_TYPE.unique():\n",
        "  data = temp[temp.VEHICLE_TYPE==vehicle]\n",
        "  Upper = calculate_upper_wisker(data.SUM_INSURED)\n",
        "  # data['OUTLIER_FLAG'] = np.where(data.SUM_INSURED > Upper,True,False)\n",
        "  data['SUM_INSURED'] = np.where(data.SUM_INSURED > Upper,Upper,data.SUM_INSURED)\n",
        "\n",
        "  result.append(data)\n",
        "\n",
        "temp = pd.concat(result)"
      ],
      "execution_count": 14,
      "outputs": []
    },
    {
      "cell_type": "code",
      "metadata": {
        "id": "ec7HSVWViRf8"
      },
      "source": [
        "temp2 = datamart.copy()\n",
        "temp2['SUM_INSURED'] = temp['SUM_INSURED']"
      ],
      "execution_count": 15,
      "outputs": []
    },
    {
      "cell_type": "code",
      "metadata": {
        "id": "zAFeguc0i_Dl"
      },
      "source": [
        "datamart_clean = temp2.copy()"
      ],
      "execution_count": 16,
      "outputs": []
    },
    {
      "cell_type": "markdown",
      "metadata": {
        "id": "dDS2umiI8Nuv"
      },
      "source": [
        "## Feature Engineering"
      ]
    },
    {
      "cell_type": "code",
      "metadata": {
        "colab": {
          "base_uri": "https://localhost:8080/",
          "height": 0
        },
        "id": "VeUKSeK38RIc",
        "outputId": "ca4b4b64-005c-4dd0-d6a5-00f38088aece"
      },
      "source": [
        "datamart_clean.head().T"
      ],
      "execution_count": 17,
      "outputs": [
        {
          "output_type": "execute_result",
          "data": {
            "text/html": [
              "<div>\n",
              "<style scoped>\n",
              "    .dataframe tbody tr th:only-of-type {\n",
              "        vertical-align: middle;\n",
              "    }\n",
              "\n",
              "    .dataframe tbody tr th {\n",
              "        vertical-align: top;\n",
              "    }\n",
              "\n",
              "    .dataframe thead th {\n",
              "        text-align: right;\n",
              "    }\n",
              "</style>\n",
              "<table border=\"1\" class=\"dataframe\">\n",
              "  <thead>\n",
              "    <tr style=\"text-align: right;\">\n",
              "      <th></th>\n",
              "      <th>0</th>\n",
              "      <th>1</th>\n",
              "      <th>2</th>\n",
              "      <th>3</th>\n",
              "      <th>4</th>\n",
              "    </tr>\n",
              "  </thead>\n",
              "  <tbody>\n",
              "    <tr>\n",
              "      <th>POLICY_WRITTEN_BRANCH</th>\n",
              "      <td>BRANCH_104</td>\n",
              "      <td>BRANCH_104</td>\n",
              "      <td>BRANCH_104</td>\n",
              "      <td>BRANCH_104</td>\n",
              "      <td>BRANCH_104</td>\n",
              "    </tr>\n",
              "    <tr>\n",
              "      <th>POLICY_IDENTIFIER</th>\n",
              "      <td>POLICY_2981310</td>\n",
              "      <td>POLICY_2746285</td>\n",
              "      <td>POLICY_2052928</td>\n",
              "      <td>POLICY_2507456</td>\n",
              "      <td>POLICY_2950161</td>\n",
              "    </tr>\n",
              "    <tr>\n",
              "      <th>PREVIOUS_INSURER_NAME</th>\n",
              "      <td>MAIN_INSURANCE</td>\n",
              "      <td>MAIN_INSURANCE</td>\n",
              "      <td>Others_ 23</td>\n",
              "      <td>MAIN_INSURANCE</td>\n",
              "      <td>MAIN_INSURANCE</td>\n",
              "    </tr>\n",
              "    <tr>\n",
              "      <th>POLICY_START_DATE</th>\n",
              "      <td>2014-05-05</td>\n",
              "      <td>2016-05-06</td>\n",
              "      <td>2013-01-22</td>\n",
              "      <td>2015-07-21</td>\n",
              "      <td>2016-01-06</td>\n",
              "    </tr>\n",
              "    <tr>\n",
              "      <th>POLICY_END_DATE</th>\n",
              "      <td>2015-05-04</td>\n",
              "      <td>2017-05-05</td>\n",
              "      <td>2014-01-21</td>\n",
              "      <td>2016-07-19</td>\n",
              "      <td>2017-01-04</td>\n",
              "    </tr>\n",
              "    <tr>\n",
              "      <th>CANCELLATION_DATE</th>\n",
              "      <td>2015-05-04</td>\n",
              "      <td>NaN</td>\n",
              "      <td>NaN</td>\n",
              "      <td>NaN</td>\n",
              "      <td>2017-01-02</td>\n",
              "    </tr>\n",
              "    <tr>\n",
              "      <th>SUM_INSURED</th>\n",
              "      <td>7,800,000.00</td>\n",
              "      <td>27,880,000.00</td>\n",
              "      <td>380,000.00</td>\n",
              "      <td>4,940,000.00</td>\n",
              "      <td>4,480,000.00</td>\n",
              "    </tr>\n",
              "    <tr>\n",
              "      <th>GWP</th>\n",
              "      <td>69911</td>\n",
              "      <td>51831</td>\n",
              "      <td>2654</td>\n",
              "      <td>24377</td>\n",
              "      <td>27824</td>\n",
              "    </tr>\n",
              "    <tr>\n",
              "      <th>COMPULSORY_DEDUCTABLE</th>\n",
              "      <td>2000</td>\n",
              "      <td>2000</td>\n",
              "      <td>1000</td>\n",
              "      <td>0</td>\n",
              "      <td>1000</td>\n",
              "    </tr>\n",
              "    <tr>\n",
              "      <th>PRODUCT</th>\n",
              "      <td>COMMERCIAL MOTOR MISCELLANEOUS VEHICLES</td>\n",
              "      <td>PRIVATE MOTOR 3 &amp; 4 WHEELER</td>\n",
              "      <td>PRIVATE MOTOR 2 WHEELER</td>\n",
              "      <td>PRIVATE MOTOR 3 &amp; 4 WHEELER</td>\n",
              "      <td>LONG TERM TWO WHEELER PACKAGE</td>\n",
              "    </tr>\n",
              "    <tr>\n",
              "      <th>PRODUCT_CODE</th>\n",
              "      <td>product_ 3</td>\n",
              "      <td>product_ 1</td>\n",
              "      <td>product_ 2</td>\n",
              "      <td>product_ 1</td>\n",
              "      <td>product_ 7</td>\n",
              "    </tr>\n",
              "    <tr>\n",
              "      <th>VEHICLE_IDENTIFIER</th>\n",
              "      <td>VEHICLE_770218</td>\n",
              "      <td>VEHICLE_862671</td>\n",
              "      <td>VEHICLE_139789</td>\n",
              "      <td>VEHICLE_1606551</td>\n",
              "      <td>VEHICLE_942145</td>\n",
              "    </tr>\n",
              "    <tr>\n",
              "      <th>CLAIM_COUNT</th>\n",
              "      <td>NaN</td>\n",
              "      <td>1.00</td>\n",
              "      <td>NaN</td>\n",
              "      <td>NaN</td>\n",
              "      <td>NaN</td>\n",
              "    </tr>\n",
              "    <tr>\n",
              "      <th>CLAIM_AMOUNT</th>\n",
              "      <td>NaN</td>\n",
              "      <td>6,700.00</td>\n",
              "      <td>NaN</td>\n",
              "      <td>NaN</td>\n",
              "      <td>NaN</td>\n",
              "    </tr>\n",
              "    <tr>\n",
              "      <th>YEAR_OF_MANUFACTURE</th>\n",
              "      <td>2003</td>\n",
              "      <td>2007</td>\n",
              "      <td>2011</td>\n",
              "      <td>2010</td>\n",
              "      <td>2004</td>\n",
              "    </tr>\n",
              "    <tr>\n",
              "      <th>MAKE_OF_VEHICLE</th>\n",
              "      <td>TOYOTA</td>\n",
              "      <td>Nissan</td>\n",
              "      <td>ESCORT</td>\n",
              "      <td>Aston Martin</td>\n",
              "      <td>TOYOTA</td>\n",
              "    </tr>\n",
              "    <tr>\n",
              "      <th>VEHICLE_TYPE</th>\n",
              "      <td>BUS</td>\n",
              "      <td>MOTORCAR</td>\n",
              "      <td>MOTORBIKE</td>\n",
              "      <td>MOTORCAR</td>\n",
              "      <td>MOTORBIKE</td>\n",
              "    </tr>\n",
              "    <tr>\n",
              "      <th>SEATING_CAPACITY</th>\n",
              "      <td>31</td>\n",
              "      <td>5</td>\n",
              "      <td>1</td>\n",
              "      <td>3</td>\n",
              "      <td>2</td>\n",
              "    </tr>\n",
              "    <tr>\n",
              "      <th>ENGINE_SIZE_CC</th>\n",
              "      <td>1320</td>\n",
              "      <td>1300</td>\n",
              "      <td>840</td>\n",
              "      <td>1135</td>\n",
              "      <td>760</td>\n",
              "    </tr>\n",
              "    <tr>\n",
              "      <th>VEHICLE_GROSS_WEIGHT</th>\n",
              "      <td>2495</td>\n",
              "      <td>64000</td>\n",
              "      <td>41000</td>\n",
              "      <td>2800</td>\n",
              "      <td>3700</td>\n",
              "    </tr>\n",
              "    <tr>\n",
              "      <th>CUSTOMER_IDENTIFIER</th>\n",
              "      <td>CUSTOMER_808252</td>\n",
              "      <td>CUSTOMER_85713</td>\n",
              "      <td>CUSTOMER_854963</td>\n",
              "      <td>CUSTOMER_227473</td>\n",
              "      <td>CUSTOMER_346813</td>\n",
              "    </tr>\n",
              "    <tr>\n",
              "      <th>GENDER</th>\n",
              "      <td>M</td>\n",
              "      <td>M</td>\n",
              "      <td>M</td>\n",
              "      <td>F</td>\n",
              "      <td>M</td>\n",
              "    </tr>\n",
              "    <tr>\n",
              "      <th>DRIVING_EXPERIENCE</th>\n",
              "      <td>THREE_TO_FIVE_YEARS</td>\n",
              "      <td>THREE_TO_FIVE_YEARS</td>\n",
              "      <td>THREE_TO_FIVE_YEARS</td>\n",
              "      <td>ONE_TO_THREE_YEARS</td>\n",
              "      <td>THREE_TO_FIVE_YEARS</td>\n",
              "    </tr>\n",
              "  </tbody>\n",
              "</table>\n",
              "</div>"
            ],
            "text/plain": [
              "                                                             0  ...                              4\n",
              "POLICY_WRITTEN_BRANCH                               BRANCH_104  ...                     BRANCH_104\n",
              "POLICY_IDENTIFIER                               POLICY_2981310  ...                 POLICY_2950161\n",
              "PREVIOUS_INSURER_NAME                           MAIN_INSURANCE  ...                 MAIN_INSURANCE\n",
              "POLICY_START_DATE                                   2014-05-05  ...                     2016-01-06\n",
              "POLICY_END_DATE                                     2015-05-04  ...                     2017-01-04\n",
              "CANCELLATION_DATE                                   2015-05-04  ...                     2017-01-02\n",
              "SUM_INSURED                                       7,800,000.00  ...                   4,480,000.00\n",
              "GWP                                                      69911  ...                          27824\n",
              "COMPULSORY_DEDUCTABLE                                     2000  ...                           1000\n",
              "PRODUCT                COMMERCIAL MOTOR MISCELLANEOUS VEHICLES  ...  LONG TERM TWO WHEELER PACKAGE\n",
              "PRODUCT_CODE                                        product_ 3  ...                     product_ 7\n",
              "VEHICLE_IDENTIFIER                              VEHICLE_770218  ...                 VEHICLE_942145\n",
              "CLAIM_COUNT                                                NaN  ...                            NaN\n",
              "CLAIM_AMOUNT                                               NaN  ...                            NaN\n",
              "YEAR_OF_MANUFACTURE                                       2003  ...                           2004\n",
              "MAKE_OF_VEHICLE                                         TOYOTA  ...                         TOYOTA\n",
              "VEHICLE_TYPE                                               BUS  ...                      MOTORBIKE\n",
              "SEATING_CAPACITY                                            31  ...                              2\n",
              "ENGINE_SIZE_CC                                            1320  ...                            760\n",
              "VEHICLE_GROSS_WEIGHT                                      2495  ...                           3700\n",
              "CUSTOMER_IDENTIFIER                            CUSTOMER_808252  ...                CUSTOMER_346813\n",
              "GENDER                                                       M  ...                              M\n",
              "DRIVING_EXPERIENCE                         THREE_TO_FIVE_YEARS  ...            THREE_TO_FIVE_YEARS\n",
              "\n",
              "[23 rows x 5 columns]"
            ]
          },
          "metadata": {},
          "execution_count": 17
        }
      ]
    },
    {
      "cell_type": "code",
      "metadata": {
        "colab": {
          "base_uri": "https://localhost:8080/",
          "height": 0
        },
        "id": "ctn9ccYw8uY9",
        "outputId": "4c9442ca-2b16-42bd-a4a9-c96bc48ca99e"
      },
      "source": [
        "temp = datamart_clean.copy()\n",
        "temp['TARGET'] = np.where(temp.CLAIM_COUNT>=1,1,0)\n",
        "temp['CUSTOMER_TYPE'] = np.where(temp.PREVIOUS_INSURER_NAME == 'MAIN_INSURANCE','EXISTING','NEW')\n",
        "temp.POLICY_START_DATE = pd.to_datetime(temp.POLICY_START_DATE)\n",
        "temp['PURCHASE_MONTH'] = pd.DatetimeIndex(temp.POLICY_START_DATE).month\n",
        "temp['VEHICLE_AGE'] = pd.DatetimeIndex(temp.POLICY_START_DATE).year - temp.YEAR_OF_MANUFACTURE\n",
        "temp['BUSINESS_TYPE'] = np.where(temp.PRODUCT.str.contains('COMMERCIAL'),'COMMERCIAL',np.where(temp.PRODUCT.str.contains('PRIVATE'),'PRIVATE','OTHER'))\n",
        "temp.head().T"
      ],
      "execution_count": 18,
      "outputs": [
        {
          "output_type": "execute_result",
          "data": {
            "text/html": [
              "<div>\n",
              "<style scoped>\n",
              "    .dataframe tbody tr th:only-of-type {\n",
              "        vertical-align: middle;\n",
              "    }\n",
              "\n",
              "    .dataframe tbody tr th {\n",
              "        vertical-align: top;\n",
              "    }\n",
              "\n",
              "    .dataframe thead th {\n",
              "        text-align: right;\n",
              "    }\n",
              "</style>\n",
              "<table border=\"1\" class=\"dataframe\">\n",
              "  <thead>\n",
              "    <tr style=\"text-align: right;\">\n",
              "      <th></th>\n",
              "      <th>0</th>\n",
              "      <th>1</th>\n",
              "      <th>2</th>\n",
              "      <th>3</th>\n",
              "      <th>4</th>\n",
              "    </tr>\n",
              "  </thead>\n",
              "  <tbody>\n",
              "    <tr>\n",
              "      <th>POLICY_WRITTEN_BRANCH</th>\n",
              "      <td>BRANCH_104</td>\n",
              "      <td>BRANCH_104</td>\n",
              "      <td>BRANCH_104</td>\n",
              "      <td>BRANCH_104</td>\n",
              "      <td>BRANCH_104</td>\n",
              "    </tr>\n",
              "    <tr>\n",
              "      <th>POLICY_IDENTIFIER</th>\n",
              "      <td>POLICY_2981310</td>\n",
              "      <td>POLICY_2746285</td>\n",
              "      <td>POLICY_2052928</td>\n",
              "      <td>POLICY_2507456</td>\n",
              "      <td>POLICY_2950161</td>\n",
              "    </tr>\n",
              "    <tr>\n",
              "      <th>PREVIOUS_INSURER_NAME</th>\n",
              "      <td>MAIN_INSURANCE</td>\n",
              "      <td>MAIN_INSURANCE</td>\n",
              "      <td>Others_ 23</td>\n",
              "      <td>MAIN_INSURANCE</td>\n",
              "      <td>MAIN_INSURANCE</td>\n",
              "    </tr>\n",
              "    <tr>\n",
              "      <th>POLICY_START_DATE</th>\n",
              "      <td>2014-05-05 00:00:00</td>\n",
              "      <td>2016-05-06 00:00:00</td>\n",
              "      <td>2013-01-22 00:00:00</td>\n",
              "      <td>2015-07-21 00:00:00</td>\n",
              "      <td>2016-01-06 00:00:00</td>\n",
              "    </tr>\n",
              "    <tr>\n",
              "      <th>POLICY_END_DATE</th>\n",
              "      <td>2015-05-04</td>\n",
              "      <td>2017-05-05</td>\n",
              "      <td>2014-01-21</td>\n",
              "      <td>2016-07-19</td>\n",
              "      <td>2017-01-04</td>\n",
              "    </tr>\n",
              "    <tr>\n",
              "      <th>CANCELLATION_DATE</th>\n",
              "      <td>2015-05-04</td>\n",
              "      <td>NaN</td>\n",
              "      <td>NaN</td>\n",
              "      <td>NaN</td>\n",
              "      <td>2017-01-02</td>\n",
              "    </tr>\n",
              "    <tr>\n",
              "      <th>SUM_INSURED</th>\n",
              "      <td>7,800,000.00</td>\n",
              "      <td>27,880,000.00</td>\n",
              "      <td>380,000.00</td>\n",
              "      <td>4,940,000.00</td>\n",
              "      <td>4,480,000.00</td>\n",
              "    </tr>\n",
              "    <tr>\n",
              "      <th>GWP</th>\n",
              "      <td>69911</td>\n",
              "      <td>51831</td>\n",
              "      <td>2654</td>\n",
              "      <td>24377</td>\n",
              "      <td>27824</td>\n",
              "    </tr>\n",
              "    <tr>\n",
              "      <th>COMPULSORY_DEDUCTABLE</th>\n",
              "      <td>2000</td>\n",
              "      <td>2000</td>\n",
              "      <td>1000</td>\n",
              "      <td>0</td>\n",
              "      <td>1000</td>\n",
              "    </tr>\n",
              "    <tr>\n",
              "      <th>PRODUCT</th>\n",
              "      <td>COMMERCIAL MOTOR MISCELLANEOUS VEHICLES</td>\n",
              "      <td>PRIVATE MOTOR 3 &amp; 4 WHEELER</td>\n",
              "      <td>PRIVATE MOTOR 2 WHEELER</td>\n",
              "      <td>PRIVATE MOTOR 3 &amp; 4 WHEELER</td>\n",
              "      <td>LONG TERM TWO WHEELER PACKAGE</td>\n",
              "    </tr>\n",
              "    <tr>\n",
              "      <th>PRODUCT_CODE</th>\n",
              "      <td>product_ 3</td>\n",
              "      <td>product_ 1</td>\n",
              "      <td>product_ 2</td>\n",
              "      <td>product_ 1</td>\n",
              "      <td>product_ 7</td>\n",
              "    </tr>\n",
              "    <tr>\n",
              "      <th>VEHICLE_IDENTIFIER</th>\n",
              "      <td>VEHICLE_770218</td>\n",
              "      <td>VEHICLE_862671</td>\n",
              "      <td>VEHICLE_139789</td>\n",
              "      <td>VEHICLE_1606551</td>\n",
              "      <td>VEHICLE_942145</td>\n",
              "    </tr>\n",
              "    <tr>\n",
              "      <th>CLAIM_COUNT</th>\n",
              "      <td>NaN</td>\n",
              "      <td>1.00</td>\n",
              "      <td>NaN</td>\n",
              "      <td>NaN</td>\n",
              "      <td>NaN</td>\n",
              "    </tr>\n",
              "    <tr>\n",
              "      <th>CLAIM_AMOUNT</th>\n",
              "      <td>NaN</td>\n",
              "      <td>6,700.00</td>\n",
              "      <td>NaN</td>\n",
              "      <td>NaN</td>\n",
              "      <td>NaN</td>\n",
              "    </tr>\n",
              "    <tr>\n",
              "      <th>YEAR_OF_MANUFACTURE</th>\n",
              "      <td>2003</td>\n",
              "      <td>2007</td>\n",
              "      <td>2011</td>\n",
              "      <td>2010</td>\n",
              "      <td>2004</td>\n",
              "    </tr>\n",
              "    <tr>\n",
              "      <th>MAKE_OF_VEHICLE</th>\n",
              "      <td>TOYOTA</td>\n",
              "      <td>Nissan</td>\n",
              "      <td>ESCORT</td>\n",
              "      <td>Aston Martin</td>\n",
              "      <td>TOYOTA</td>\n",
              "    </tr>\n",
              "    <tr>\n",
              "      <th>VEHICLE_TYPE</th>\n",
              "      <td>BUS</td>\n",
              "      <td>MOTORCAR</td>\n",
              "      <td>MOTORBIKE</td>\n",
              "      <td>MOTORCAR</td>\n",
              "      <td>MOTORBIKE</td>\n",
              "    </tr>\n",
              "    <tr>\n",
              "      <th>SEATING_CAPACITY</th>\n",
              "      <td>31</td>\n",
              "      <td>5</td>\n",
              "      <td>1</td>\n",
              "      <td>3</td>\n",
              "      <td>2</td>\n",
              "    </tr>\n",
              "    <tr>\n",
              "      <th>ENGINE_SIZE_CC</th>\n",
              "      <td>1320</td>\n",
              "      <td>1300</td>\n",
              "      <td>840</td>\n",
              "      <td>1135</td>\n",
              "      <td>760</td>\n",
              "    </tr>\n",
              "    <tr>\n",
              "      <th>VEHICLE_GROSS_WEIGHT</th>\n",
              "      <td>2495</td>\n",
              "      <td>64000</td>\n",
              "      <td>41000</td>\n",
              "      <td>2800</td>\n",
              "      <td>3700</td>\n",
              "    </tr>\n",
              "    <tr>\n",
              "      <th>CUSTOMER_IDENTIFIER</th>\n",
              "      <td>CUSTOMER_808252</td>\n",
              "      <td>CUSTOMER_85713</td>\n",
              "      <td>CUSTOMER_854963</td>\n",
              "      <td>CUSTOMER_227473</td>\n",
              "      <td>CUSTOMER_346813</td>\n",
              "    </tr>\n",
              "    <tr>\n",
              "      <th>GENDER</th>\n",
              "      <td>M</td>\n",
              "      <td>M</td>\n",
              "      <td>M</td>\n",
              "      <td>F</td>\n",
              "      <td>M</td>\n",
              "    </tr>\n",
              "    <tr>\n",
              "      <th>DRIVING_EXPERIENCE</th>\n",
              "      <td>THREE_TO_FIVE_YEARS</td>\n",
              "      <td>THREE_TO_FIVE_YEARS</td>\n",
              "      <td>THREE_TO_FIVE_YEARS</td>\n",
              "      <td>ONE_TO_THREE_YEARS</td>\n",
              "      <td>THREE_TO_FIVE_YEARS</td>\n",
              "    </tr>\n",
              "    <tr>\n",
              "      <th>TARGET</th>\n",
              "      <td>0</td>\n",
              "      <td>1</td>\n",
              "      <td>0</td>\n",
              "      <td>0</td>\n",
              "      <td>0</td>\n",
              "    </tr>\n",
              "    <tr>\n",
              "      <th>CUSTOMER_TYPE</th>\n",
              "      <td>EXISTING</td>\n",
              "      <td>EXISTING</td>\n",
              "      <td>NEW</td>\n",
              "      <td>EXISTING</td>\n",
              "      <td>EXISTING</td>\n",
              "    </tr>\n",
              "    <tr>\n",
              "      <th>PURCHASE_MONTH</th>\n",
              "      <td>5</td>\n",
              "      <td>5</td>\n",
              "      <td>1</td>\n",
              "      <td>7</td>\n",
              "      <td>1</td>\n",
              "    </tr>\n",
              "    <tr>\n",
              "      <th>VEHICLE_AGE</th>\n",
              "      <td>11</td>\n",
              "      <td>9</td>\n",
              "      <td>2</td>\n",
              "      <td>5</td>\n",
              "      <td>12</td>\n",
              "    </tr>\n",
              "    <tr>\n",
              "      <th>BUSINESS_TYPE</th>\n",
              "      <td>COMMERCIAL</td>\n",
              "      <td>PRIVATE</td>\n",
              "      <td>PRIVATE</td>\n",
              "      <td>PRIVATE</td>\n",
              "      <td>OTHER</td>\n",
              "    </tr>\n",
              "  </tbody>\n",
              "</table>\n",
              "</div>"
            ],
            "text/plain": [
              "                                                             0  ...                              4\n",
              "POLICY_WRITTEN_BRANCH                               BRANCH_104  ...                     BRANCH_104\n",
              "POLICY_IDENTIFIER                               POLICY_2981310  ...                 POLICY_2950161\n",
              "PREVIOUS_INSURER_NAME                           MAIN_INSURANCE  ...                 MAIN_INSURANCE\n",
              "POLICY_START_DATE                          2014-05-05 00:00:00  ...            2016-01-06 00:00:00\n",
              "POLICY_END_DATE                                     2015-05-04  ...                     2017-01-04\n",
              "CANCELLATION_DATE                                   2015-05-04  ...                     2017-01-02\n",
              "SUM_INSURED                                       7,800,000.00  ...                   4,480,000.00\n",
              "GWP                                                      69911  ...                          27824\n",
              "COMPULSORY_DEDUCTABLE                                     2000  ...                           1000\n",
              "PRODUCT                COMMERCIAL MOTOR MISCELLANEOUS VEHICLES  ...  LONG TERM TWO WHEELER PACKAGE\n",
              "PRODUCT_CODE                                        product_ 3  ...                     product_ 7\n",
              "VEHICLE_IDENTIFIER                              VEHICLE_770218  ...                 VEHICLE_942145\n",
              "CLAIM_COUNT                                                NaN  ...                            NaN\n",
              "CLAIM_AMOUNT                                               NaN  ...                            NaN\n",
              "YEAR_OF_MANUFACTURE                                       2003  ...                           2004\n",
              "MAKE_OF_VEHICLE                                         TOYOTA  ...                         TOYOTA\n",
              "VEHICLE_TYPE                                               BUS  ...                      MOTORBIKE\n",
              "SEATING_CAPACITY                                            31  ...                              2\n",
              "ENGINE_SIZE_CC                                            1320  ...                            760\n",
              "VEHICLE_GROSS_WEIGHT                                      2495  ...                           3700\n",
              "CUSTOMER_IDENTIFIER                            CUSTOMER_808252  ...                CUSTOMER_346813\n",
              "GENDER                                                       M  ...                              M\n",
              "DRIVING_EXPERIENCE                         THREE_TO_FIVE_YEARS  ...            THREE_TO_FIVE_YEARS\n",
              "TARGET                                                       0  ...                              0\n",
              "CUSTOMER_TYPE                                         EXISTING  ...                       EXISTING\n",
              "PURCHASE_MONTH                                               5  ...                              1\n",
              "VEHICLE_AGE                                                 11  ...                             12\n",
              "BUSINESS_TYPE                                       COMMERCIAL  ...                          OTHER\n",
              "\n",
              "[28 rows x 5 columns]"
            ]
          },
          "metadata": {},
          "execution_count": 18
        }
      ]
    },
    {
      "cell_type": "code",
      "metadata": {
        "colab": {
          "base_uri": "https://localhost:8080/",
          "height": 0
        },
        "id": "QRKnazCd_BTd",
        "outputId": "9f3eb5ce-f81b-4ac9-9e4e-77db5203394d"
      },
      "source": [
        "# Extract previous policy information for each customer\n",
        "temp2 = temp[temp.CANCELLATION_DATE.isna()][['CUSTOMER_IDENTIFIER','VEHICLE_IDENTIFIER','POLICY_START_DATE','POLICY_END_DATE','CLAIM_COUNT','CLAIM_AMOUNT']].sort_values(by = ['CUSTOMER_IDENTIFIER','POLICY_START_DATE'],ascending=True)\n",
        "temp2.head()"
      ],
      "execution_count": 19,
      "outputs": [
        {
          "output_type": "execute_result",
          "data": {
            "text/html": [
              "<div>\n",
              "<style scoped>\n",
              "    .dataframe tbody tr th:only-of-type {\n",
              "        vertical-align: middle;\n",
              "    }\n",
              "\n",
              "    .dataframe tbody tr th {\n",
              "        vertical-align: top;\n",
              "    }\n",
              "\n",
              "    .dataframe thead th {\n",
              "        text-align: right;\n",
              "    }\n",
              "</style>\n",
              "<table border=\"1\" class=\"dataframe\">\n",
              "  <thead>\n",
              "    <tr style=\"text-align: right;\">\n",
              "      <th></th>\n",
              "      <th>CUSTOMER_IDENTIFIER</th>\n",
              "      <th>VEHICLE_IDENTIFIER</th>\n",
              "      <th>POLICY_START_DATE</th>\n",
              "      <th>POLICY_END_DATE</th>\n",
              "      <th>CLAIM_COUNT</th>\n",
              "      <th>CLAIM_AMOUNT</th>\n",
              "    </tr>\n",
              "  </thead>\n",
              "  <tbody>\n",
              "    <tr>\n",
              "      <th>3399624</th>\n",
              "      <td>CUSTOMER_1</td>\n",
              "      <td>VEHICLE_1057258</td>\n",
              "      <td>2016-10-30</td>\n",
              "      <td>2017-10-29</td>\n",
              "      <td>1.00</td>\n",
              "      <td>20,318.00</td>\n",
              "    </tr>\n",
              "    <tr>\n",
              "      <th>3289503</th>\n",
              "      <td>CUSTOMER_10</td>\n",
              "      <td>VEHICLE_946884</td>\n",
              "      <td>2012-10-13</td>\n",
              "      <td>2013-10-12</td>\n",
              "      <td>1.00</td>\n",
              "      <td>4,708.00</td>\n",
              "    </tr>\n",
              "    <tr>\n",
              "      <th>803573</th>\n",
              "      <td>CUSTOMER_100</td>\n",
              "      <td>VEHICLE_1394226</td>\n",
              "      <td>2015-10-09</td>\n",
              "      <td>2016-10-07</td>\n",
              "      <td>nan</td>\n",
              "      <td>nan</td>\n",
              "    </tr>\n",
              "    <tr>\n",
              "      <th>1328193</th>\n",
              "      <td>CUSTOMER_100</td>\n",
              "      <td>VEHICLE_1394226</td>\n",
              "      <td>2016-10-03</td>\n",
              "      <td>2017-10-02</td>\n",
              "      <td>nan</td>\n",
              "      <td>nan</td>\n",
              "    </tr>\n",
              "    <tr>\n",
              "      <th>3239141</th>\n",
              "      <td>CUSTOMER_1000</td>\n",
              "      <td>VEHICLE_1415386</td>\n",
              "      <td>2012-10-24</td>\n",
              "      <td>2013-10-23</td>\n",
              "      <td>nan</td>\n",
              "      <td>nan</td>\n",
              "    </tr>\n",
              "  </tbody>\n",
              "</table>\n",
              "</div>"
            ],
            "text/plain": [
              "        CUSTOMER_IDENTIFIER VEHICLE_IDENTIFIER  ... CLAIM_COUNT CLAIM_AMOUNT\n",
              "3399624          CUSTOMER_1    VEHICLE_1057258  ...        1.00    20,318.00\n",
              "3289503         CUSTOMER_10     VEHICLE_946884  ...        1.00     4,708.00\n",
              "803573         CUSTOMER_100    VEHICLE_1394226  ...         nan          nan\n",
              "1328193        CUSTOMER_100    VEHICLE_1394226  ...         nan          nan\n",
              "3239141       CUSTOMER_1000    VEHICLE_1415386  ...         nan          nan\n",
              "\n",
              "[5 rows x 6 columns]"
            ]
          },
          "metadata": {},
          "execution_count": 19
        }
      ]
    },
    {
      "cell_type": "code",
      "metadata": {
        "colab": {
          "base_uri": "https://localhost:8080/",
          "height": 0
        },
        "id": "SlmxmU4uE8N0",
        "outputId": "a0cd3e73-aeb5-4fa9-d3fd-46148acf5c41"
      },
      "source": [
        "pd.pivot_table(temp2,index='CUSTOMER_IDENTIFIER',aggfunc={'CLAIM_COUNT':'count'}).reset_index().sort_values(by='CLAIM_COUNT',ascending=False).head(10)"
      ],
      "execution_count": 20,
      "outputs": [
        {
          "output_type": "execute_result",
          "data": {
            "text/html": [
              "<div>\n",
              "<style scoped>\n",
              "    .dataframe tbody tr th:only-of-type {\n",
              "        vertical-align: middle;\n",
              "    }\n",
              "\n",
              "    .dataframe tbody tr th {\n",
              "        vertical-align: top;\n",
              "    }\n",
              "\n",
              "    .dataframe thead th {\n",
              "        text-align: right;\n",
              "    }\n",
              "</style>\n",
              "<table border=\"1\" class=\"dataframe\">\n",
              "  <thead>\n",
              "    <tr style=\"text-align: right;\">\n",
              "      <th></th>\n",
              "      <th>CUSTOMER_IDENTIFIER</th>\n",
              "      <th>CLAIM_COUNT</th>\n",
              "    </tr>\n",
              "  </thead>\n",
              "  <tbody>\n",
              "    <tr>\n",
              "      <th>486911</th>\n",
              "      <td>CUSTOMER_705545</td>\n",
              "      <td>6</td>\n",
              "    </tr>\n",
              "    <tr>\n",
              "      <th>600334</th>\n",
              "      <td>CUSTOMER_854462</td>\n",
              "      <td>6</td>\n",
              "    </tr>\n",
              "    <tr>\n",
              "      <th>491069</th>\n",
              "      <td>CUSTOMER_710951</td>\n",
              "      <td>6</td>\n",
              "    </tr>\n",
              "    <tr>\n",
              "      <th>529561</th>\n",
              "      <td>CUSTOMER_761721</td>\n",
              "      <td>5</td>\n",
              "    </tr>\n",
              "    <tr>\n",
              "      <th>635318</th>\n",
              "      <td>CUSTOMER_900359</td>\n",
              "      <td>5</td>\n",
              "    </tr>\n",
              "    <tr>\n",
              "      <th>180177</th>\n",
              "      <td>CUSTOMER_301925</td>\n",
              "      <td>5</td>\n",
              "    </tr>\n",
              "    <tr>\n",
              "      <th>224592</th>\n",
              "      <td>CUSTOMER_360409</td>\n",
              "      <td>5</td>\n",
              "    </tr>\n",
              "    <tr>\n",
              "      <th>674239</th>\n",
              "      <td>CUSTOMER_951568</td>\n",
              "      <td>5</td>\n",
              "    </tr>\n",
              "    <tr>\n",
              "      <th>387403</th>\n",
              "      <td>CUSTOMER_574679</td>\n",
              "      <td>5</td>\n",
              "    </tr>\n",
              "    <tr>\n",
              "      <th>423560</th>\n",
              "      <td>CUSTOMER_622148</td>\n",
              "      <td>5</td>\n",
              "    </tr>\n",
              "  </tbody>\n",
              "</table>\n",
              "</div>"
            ],
            "text/plain": [
              "       CUSTOMER_IDENTIFIER  CLAIM_COUNT\n",
              "486911     CUSTOMER_705545            6\n",
              "600334     CUSTOMER_854462            6\n",
              "491069     CUSTOMER_710951            6\n",
              "529561     CUSTOMER_761721            5\n",
              "635318     CUSTOMER_900359            5\n",
              "180177     CUSTOMER_301925            5\n",
              "224592     CUSTOMER_360409            5\n",
              "674239     CUSTOMER_951568            5\n",
              "387403     CUSTOMER_574679            5\n",
              "423560     CUSTOMER_622148            5"
            ]
          },
          "metadata": {},
          "execution_count": 20
        }
      ]
    },
    {
      "cell_type": "code",
      "metadata": {
        "colab": {
          "base_uri": "https://localhost:8080/",
          "height": 0
        },
        "id": "dJfI2x4ZFwHP",
        "outputId": "84b09d36-61b9-4484-aff1-15508376b3d9"
      },
      "source": [
        "# Example of repeat customer\n",
        "temp2[temp2.CUSTOMER_IDENTIFIER == 'CUSTOMER_705545']"
      ],
      "execution_count": 21,
      "outputs": [
        {
          "output_type": "execute_result",
          "data": {
            "text/html": [
              "<div>\n",
              "<style scoped>\n",
              "    .dataframe tbody tr th:only-of-type {\n",
              "        vertical-align: middle;\n",
              "    }\n",
              "\n",
              "    .dataframe tbody tr th {\n",
              "        vertical-align: top;\n",
              "    }\n",
              "\n",
              "    .dataframe thead th {\n",
              "        text-align: right;\n",
              "    }\n",
              "</style>\n",
              "<table border=\"1\" class=\"dataframe\">\n",
              "  <thead>\n",
              "    <tr style=\"text-align: right;\">\n",
              "      <th></th>\n",
              "      <th>CUSTOMER_IDENTIFIER</th>\n",
              "      <th>VEHICLE_IDENTIFIER</th>\n",
              "      <th>POLICY_START_DATE</th>\n",
              "      <th>POLICY_END_DATE</th>\n",
              "      <th>CLAIM_COUNT</th>\n",
              "      <th>CLAIM_AMOUNT</th>\n",
              "    </tr>\n",
              "  </thead>\n",
              "  <tbody>\n",
              "    <tr>\n",
              "      <th>2380022</th>\n",
              "      <td>CUSTOMER_705545</td>\n",
              "      <td>VEHICLE_214261</td>\n",
              "      <td>2012-05-06</td>\n",
              "      <td>2013-05-05</td>\n",
              "      <td>1.00</td>\n",
              "      <td>195,580.00</td>\n",
              "    </tr>\n",
              "    <tr>\n",
              "      <th>1956261</th>\n",
              "      <td>CUSTOMER_705545</td>\n",
              "      <td>VEHICLE_214261</td>\n",
              "      <td>2012-10-28</td>\n",
              "      <td>2013-10-27</td>\n",
              "      <td>1.00</td>\n",
              "      <td>3,538.00</td>\n",
              "    </tr>\n",
              "    <tr>\n",
              "      <th>1994419</th>\n",
              "      <td>CUSTOMER_705545</td>\n",
              "      <td>VEHICLE_214261</td>\n",
              "      <td>2013-11-07</td>\n",
              "      <td>2014-11-06</td>\n",
              "      <td>2.00</td>\n",
              "      <td>7,425.00</td>\n",
              "    </tr>\n",
              "    <tr>\n",
              "      <th>1605120</th>\n",
              "      <td>CUSTOMER_705545</td>\n",
              "      <td>VEHICLE_214261</td>\n",
              "      <td>2014-08-15</td>\n",
              "      <td>2015-08-14</td>\n",
              "      <td>2.00</td>\n",
              "      <td>35,063.00</td>\n",
              "    </tr>\n",
              "    <tr>\n",
              "      <th>392531</th>\n",
              "      <td>CUSTOMER_705545</td>\n",
              "      <td>VEHICLE_214261</td>\n",
              "      <td>2017-07-17</td>\n",
              "      <td>2018-07-16</td>\n",
              "      <td>1.00</td>\n",
              "      <td>27,704.00</td>\n",
              "    </tr>\n",
              "    <tr>\n",
              "      <th>2561743</th>\n",
              "      <td>CUSTOMER_705545</td>\n",
              "      <td>VEHICLE_214261</td>\n",
              "      <td>2018-07-19</td>\n",
              "      <td>2019-07-18</td>\n",
              "      <td>1.00</td>\n",
              "      <td>15,296.00</td>\n",
              "    </tr>\n",
              "  </tbody>\n",
              "</table>\n",
              "</div>"
            ],
            "text/plain": [
              "        CUSTOMER_IDENTIFIER VEHICLE_IDENTIFIER  ... CLAIM_COUNT CLAIM_AMOUNT\n",
              "2380022     CUSTOMER_705545     VEHICLE_214261  ...        1.00   195,580.00\n",
              "1956261     CUSTOMER_705545     VEHICLE_214261  ...        1.00     3,538.00\n",
              "1994419     CUSTOMER_705545     VEHICLE_214261  ...        2.00     7,425.00\n",
              "1605120     CUSTOMER_705545     VEHICLE_214261  ...        2.00    35,063.00\n",
              "392531      CUSTOMER_705545     VEHICLE_214261  ...        1.00    27,704.00\n",
              "2561743     CUSTOMER_705545     VEHICLE_214261  ...        1.00    15,296.00\n",
              "\n",
              "[6 rows x 6 columns]"
            ]
          },
          "metadata": {},
          "execution_count": 21
        }
      ]
    },
    {
      "cell_type": "code",
      "metadata": {
        "id": "_O6cR7tVM0jv"
      },
      "source": [
        "# Feature Engineering on repeat customer\n",
        "temp3 = temp2.copy()\n",
        "temp3['PREVIOUS_START_DATE'] = pd.to_datetime(temp3.groupby(['CUSTOMER_IDENTIFIER','VEHICLE_IDENTIFIER'])['POLICY_START_DATE'].shift(1))\n",
        "temp3['PREVIOUS_END_DATE'] = pd.to_datetime(temp3.groupby(['CUSTOMER_IDENTIFIER','VEHICLE_IDENTIFIER'])['POLICY_END_DATE'].shift(1))\n",
        "temp3['PREVIOUS_CLAIM_COUNT'] = temp3.groupby(['CUSTOMER_IDENTIFIER','VEHICLE_IDENTIFIER'])['CLAIM_COUNT'].shift(1)\n",
        "temp3['PREVIOUS_CLAIM_AMOUNT'] = temp3.groupby(['CUSTOMER_IDENTIFIER','VEHICLE_IDENTIFIER'])['CLAIM_AMOUNT'].shift(1)"
      ],
      "execution_count": 22,
      "outputs": []
    },
    {
      "cell_type": "code",
      "metadata": {
        "id": "DrdOXdD_PrTD"
      },
      "source": [
        "temp3['SAME_VEHICLE_INSURED'] = np.where(temp3.PREVIOUS_START_DATE.isna(),False,True)\n",
        "temp3['PREVIOUS_POLICIES_CLAIM'] = np.where(temp3.PREVIOUS_CLAIM_COUNT.isna(),False,True)\n",
        "temp3['PERIOD_TO_NEXT_POLICIES'] = np.where(temp3.PREVIOUS_END_DATE.isna(),0,(temp3.POLICY_START_DATE - temp3.PREVIOUS_END_DATE))"
      ],
      "execution_count": 23,
      "outputs": []
    },
    {
      "cell_type": "code",
      "metadata": {
        "id": "JGLKcOqfNRKb"
      },
      "source": [
        "temp4 = temp3[~temp3.PREVIOUS_START_DATE.isnull()]\n",
        "temp4.drop(['PREVIOUS_START_DATE','PREVIOUS_END_DATE','CLAIM_AMOUNT','CLAIM_COUNT'],axis=1,inplace=True)"
      ],
      "execution_count": 24,
      "outputs": []
    },
    {
      "cell_type": "code",
      "metadata": {
        "colab": {
          "base_uri": "https://localhost:8080/",
          "height": 0
        },
        "id": "5jaLdNfjW3NM",
        "outputId": "a43fa602-e30a-4fa4-b3e4-bbd7b7a3871d"
      },
      "source": [
        "temp4.head()"
      ],
      "execution_count": 25,
      "outputs": [
        {
          "output_type": "execute_result",
          "data": {
            "text/html": [
              "<div>\n",
              "<style scoped>\n",
              "    .dataframe tbody tr th:only-of-type {\n",
              "        vertical-align: middle;\n",
              "    }\n",
              "\n",
              "    .dataframe tbody tr th {\n",
              "        vertical-align: top;\n",
              "    }\n",
              "\n",
              "    .dataframe thead th {\n",
              "        text-align: right;\n",
              "    }\n",
              "</style>\n",
              "<table border=\"1\" class=\"dataframe\">\n",
              "  <thead>\n",
              "    <tr style=\"text-align: right;\">\n",
              "      <th></th>\n",
              "      <th>CUSTOMER_IDENTIFIER</th>\n",
              "      <th>VEHICLE_IDENTIFIER</th>\n",
              "      <th>POLICY_START_DATE</th>\n",
              "      <th>POLICY_END_DATE</th>\n",
              "      <th>PREVIOUS_CLAIM_COUNT</th>\n",
              "      <th>PREVIOUS_CLAIM_AMOUNT</th>\n",
              "      <th>SAME_VEHICLE_INSURED</th>\n",
              "      <th>PREVIOUS_POLICIES_CLAIM</th>\n",
              "      <th>PERIOD_TO_NEXT_POLICIES</th>\n",
              "    </tr>\n",
              "  </thead>\n",
              "  <tbody>\n",
              "    <tr>\n",
              "      <th>1328193</th>\n",
              "      <td>CUSTOMER_100</td>\n",
              "      <td>VEHICLE_1394226</td>\n",
              "      <td>2016-10-03</td>\n",
              "      <td>2017-10-02</td>\n",
              "      <td>nan</td>\n",
              "      <td>nan</td>\n",
              "      <td>True</td>\n",
              "      <td>False</td>\n",
              "      <td>-4 days</td>\n",
              "    </tr>\n",
              "    <tr>\n",
              "      <th>962714</th>\n",
              "      <td>CUSTOMER_1000</td>\n",
              "      <td>VEHICLE_46254</td>\n",
              "      <td>2013-10-05</td>\n",
              "      <td>2014-10-04</td>\n",
              "      <td>nan</td>\n",
              "      <td>nan</td>\n",
              "      <td>True</td>\n",
              "      <td>False</td>\n",
              "      <td>-83 days</td>\n",
              "    </tr>\n",
              "    <tr>\n",
              "      <th>1410075</th>\n",
              "      <td>CUSTOMER_1000</td>\n",
              "      <td>VEHICLE_46254</td>\n",
              "      <td>2017-05-01</td>\n",
              "      <td>2018-04-30</td>\n",
              "      <td>nan</td>\n",
              "      <td>nan</td>\n",
              "      <td>True</td>\n",
              "      <td>False</td>\n",
              "      <td>940 days</td>\n",
              "    </tr>\n",
              "    <tr>\n",
              "      <th>2468556</th>\n",
              "      <td>CUSTOMER_1000000</td>\n",
              "      <td>VEHICLE_205603</td>\n",
              "      <td>2016-03-25</td>\n",
              "      <td>2017-03-24</td>\n",
              "      <td>nan</td>\n",
              "      <td>nan</td>\n",
              "      <td>True</td>\n",
              "      <td>False</td>\n",
              "      <td>267 days</td>\n",
              "    </tr>\n",
              "    <tr>\n",
              "      <th>2443541</th>\n",
              "      <td>CUSTOMER_1000003</td>\n",
              "      <td>VEHICLE_57310</td>\n",
              "      <td>2016-11-16</td>\n",
              "      <td>2017-11-15</td>\n",
              "      <td>1.00</td>\n",
              "      <td>141,579.00</td>\n",
              "      <td>True</td>\n",
              "      <td>True</td>\n",
              "      <td>691 days</td>\n",
              "    </tr>\n",
              "  </tbody>\n",
              "</table>\n",
              "</div>"
            ],
            "text/plain": [
              "        CUSTOMER_IDENTIFIER  ... PERIOD_TO_NEXT_POLICIES\n",
              "1328193        CUSTOMER_100  ...                 -4 days\n",
              "962714        CUSTOMER_1000  ...                -83 days\n",
              "1410075       CUSTOMER_1000  ...                940 days\n",
              "2468556    CUSTOMER_1000000  ...                267 days\n",
              "2443541    CUSTOMER_1000003  ...                691 days\n",
              "\n",
              "[5 rows x 9 columns]"
            ]
          },
          "metadata": {},
          "execution_count": 25
        }
      ]
    },
    {
      "cell_type": "code",
      "metadata": {
        "colab": {
          "base_uri": "https://localhost:8080/",
          "height": 0
        },
        "id": "8fVRNq9JV5P_",
        "outputId": "7ed4d447-7b46-4e33-a2fa-15694a3431c9"
      },
      "source": [
        "temp5 = pd.merge(temp,temp4,how='left',on = ['CUSTOMER_IDENTIFIER','VEHICLE_IDENTIFIER','POLICY_START_DATE','POLICY_END_DATE'])\n",
        "temp5.head().T"
      ],
      "execution_count": 26,
      "outputs": [
        {
          "output_type": "execute_result",
          "data": {
            "text/html": [
              "<div>\n",
              "<style scoped>\n",
              "    .dataframe tbody tr th:only-of-type {\n",
              "        vertical-align: middle;\n",
              "    }\n",
              "\n",
              "    .dataframe tbody tr th {\n",
              "        vertical-align: top;\n",
              "    }\n",
              "\n",
              "    .dataframe thead th {\n",
              "        text-align: right;\n",
              "    }\n",
              "</style>\n",
              "<table border=\"1\" class=\"dataframe\">\n",
              "  <thead>\n",
              "    <tr style=\"text-align: right;\">\n",
              "      <th></th>\n",
              "      <th>0</th>\n",
              "      <th>1</th>\n",
              "      <th>2</th>\n",
              "      <th>3</th>\n",
              "      <th>4</th>\n",
              "    </tr>\n",
              "  </thead>\n",
              "  <tbody>\n",
              "    <tr>\n",
              "      <th>POLICY_WRITTEN_BRANCH</th>\n",
              "      <td>BRANCH_104</td>\n",
              "      <td>BRANCH_104</td>\n",
              "      <td>BRANCH_104</td>\n",
              "      <td>BRANCH_104</td>\n",
              "      <td>BRANCH_104</td>\n",
              "    </tr>\n",
              "    <tr>\n",
              "      <th>POLICY_IDENTIFIER</th>\n",
              "      <td>POLICY_2981310</td>\n",
              "      <td>POLICY_2746285</td>\n",
              "      <td>POLICY_2052928</td>\n",
              "      <td>POLICY_2507456</td>\n",
              "      <td>POLICY_2950161</td>\n",
              "    </tr>\n",
              "    <tr>\n",
              "      <th>PREVIOUS_INSURER_NAME</th>\n",
              "      <td>MAIN_INSURANCE</td>\n",
              "      <td>MAIN_INSURANCE</td>\n",
              "      <td>Others_ 23</td>\n",
              "      <td>MAIN_INSURANCE</td>\n",
              "      <td>MAIN_INSURANCE</td>\n",
              "    </tr>\n",
              "    <tr>\n",
              "      <th>POLICY_START_DATE</th>\n",
              "      <td>2014-05-05 00:00:00</td>\n",
              "      <td>2016-05-06 00:00:00</td>\n",
              "      <td>2013-01-22 00:00:00</td>\n",
              "      <td>2015-07-21 00:00:00</td>\n",
              "      <td>2016-01-06 00:00:00</td>\n",
              "    </tr>\n",
              "    <tr>\n",
              "      <th>POLICY_END_DATE</th>\n",
              "      <td>2015-05-04</td>\n",
              "      <td>2017-05-05</td>\n",
              "      <td>2014-01-21</td>\n",
              "      <td>2016-07-19</td>\n",
              "      <td>2017-01-04</td>\n",
              "    </tr>\n",
              "    <tr>\n",
              "      <th>CANCELLATION_DATE</th>\n",
              "      <td>2015-05-04</td>\n",
              "      <td>NaN</td>\n",
              "      <td>NaN</td>\n",
              "      <td>NaN</td>\n",
              "      <td>2017-01-02</td>\n",
              "    </tr>\n",
              "    <tr>\n",
              "      <th>SUM_INSURED</th>\n",
              "      <td>7,800,000.00</td>\n",
              "      <td>27,880,000.00</td>\n",
              "      <td>380,000.00</td>\n",
              "      <td>4,940,000.00</td>\n",
              "      <td>4,480,000.00</td>\n",
              "    </tr>\n",
              "    <tr>\n",
              "      <th>GWP</th>\n",
              "      <td>69911</td>\n",
              "      <td>51831</td>\n",
              "      <td>2654</td>\n",
              "      <td>24377</td>\n",
              "      <td>27824</td>\n",
              "    </tr>\n",
              "    <tr>\n",
              "      <th>COMPULSORY_DEDUCTABLE</th>\n",
              "      <td>2000</td>\n",
              "      <td>2000</td>\n",
              "      <td>1000</td>\n",
              "      <td>0</td>\n",
              "      <td>1000</td>\n",
              "    </tr>\n",
              "    <tr>\n",
              "      <th>PRODUCT</th>\n",
              "      <td>COMMERCIAL MOTOR MISCELLANEOUS VEHICLES</td>\n",
              "      <td>PRIVATE MOTOR 3 &amp; 4 WHEELER</td>\n",
              "      <td>PRIVATE MOTOR 2 WHEELER</td>\n",
              "      <td>PRIVATE MOTOR 3 &amp; 4 WHEELER</td>\n",
              "      <td>LONG TERM TWO WHEELER PACKAGE</td>\n",
              "    </tr>\n",
              "    <tr>\n",
              "      <th>PRODUCT_CODE</th>\n",
              "      <td>product_ 3</td>\n",
              "      <td>product_ 1</td>\n",
              "      <td>product_ 2</td>\n",
              "      <td>product_ 1</td>\n",
              "      <td>product_ 7</td>\n",
              "    </tr>\n",
              "    <tr>\n",
              "      <th>VEHICLE_IDENTIFIER</th>\n",
              "      <td>VEHICLE_770218</td>\n",
              "      <td>VEHICLE_862671</td>\n",
              "      <td>VEHICLE_139789</td>\n",
              "      <td>VEHICLE_1606551</td>\n",
              "      <td>VEHICLE_942145</td>\n",
              "    </tr>\n",
              "    <tr>\n",
              "      <th>CLAIM_COUNT</th>\n",
              "      <td>NaN</td>\n",
              "      <td>1.00</td>\n",
              "      <td>NaN</td>\n",
              "      <td>NaN</td>\n",
              "      <td>NaN</td>\n",
              "    </tr>\n",
              "    <tr>\n",
              "      <th>CLAIM_AMOUNT</th>\n",
              "      <td>NaN</td>\n",
              "      <td>6,700.00</td>\n",
              "      <td>NaN</td>\n",
              "      <td>NaN</td>\n",
              "      <td>NaN</td>\n",
              "    </tr>\n",
              "    <tr>\n",
              "      <th>YEAR_OF_MANUFACTURE</th>\n",
              "      <td>2003</td>\n",
              "      <td>2007</td>\n",
              "      <td>2011</td>\n",
              "      <td>2010</td>\n",
              "      <td>2004</td>\n",
              "    </tr>\n",
              "    <tr>\n",
              "      <th>MAKE_OF_VEHICLE</th>\n",
              "      <td>TOYOTA</td>\n",
              "      <td>Nissan</td>\n",
              "      <td>ESCORT</td>\n",
              "      <td>Aston Martin</td>\n",
              "      <td>TOYOTA</td>\n",
              "    </tr>\n",
              "    <tr>\n",
              "      <th>VEHICLE_TYPE</th>\n",
              "      <td>BUS</td>\n",
              "      <td>MOTORCAR</td>\n",
              "      <td>MOTORBIKE</td>\n",
              "      <td>MOTORCAR</td>\n",
              "      <td>MOTORBIKE</td>\n",
              "    </tr>\n",
              "    <tr>\n",
              "      <th>SEATING_CAPACITY</th>\n",
              "      <td>31</td>\n",
              "      <td>5</td>\n",
              "      <td>1</td>\n",
              "      <td>3</td>\n",
              "      <td>2</td>\n",
              "    </tr>\n",
              "    <tr>\n",
              "      <th>ENGINE_SIZE_CC</th>\n",
              "      <td>1320</td>\n",
              "      <td>1300</td>\n",
              "      <td>840</td>\n",
              "      <td>1135</td>\n",
              "      <td>760</td>\n",
              "    </tr>\n",
              "    <tr>\n",
              "      <th>VEHICLE_GROSS_WEIGHT</th>\n",
              "      <td>2495</td>\n",
              "      <td>64000</td>\n",
              "      <td>41000</td>\n",
              "      <td>2800</td>\n",
              "      <td>3700</td>\n",
              "    </tr>\n",
              "    <tr>\n",
              "      <th>CUSTOMER_IDENTIFIER</th>\n",
              "      <td>CUSTOMER_808252</td>\n",
              "      <td>CUSTOMER_85713</td>\n",
              "      <td>CUSTOMER_854963</td>\n",
              "      <td>CUSTOMER_227473</td>\n",
              "      <td>CUSTOMER_346813</td>\n",
              "    </tr>\n",
              "    <tr>\n",
              "      <th>GENDER</th>\n",
              "      <td>M</td>\n",
              "      <td>M</td>\n",
              "      <td>M</td>\n",
              "      <td>F</td>\n",
              "      <td>M</td>\n",
              "    </tr>\n",
              "    <tr>\n",
              "      <th>DRIVING_EXPERIENCE</th>\n",
              "      <td>THREE_TO_FIVE_YEARS</td>\n",
              "      <td>THREE_TO_FIVE_YEARS</td>\n",
              "      <td>THREE_TO_FIVE_YEARS</td>\n",
              "      <td>ONE_TO_THREE_YEARS</td>\n",
              "      <td>THREE_TO_FIVE_YEARS</td>\n",
              "    </tr>\n",
              "    <tr>\n",
              "      <th>TARGET</th>\n",
              "      <td>0</td>\n",
              "      <td>1</td>\n",
              "      <td>0</td>\n",
              "      <td>0</td>\n",
              "      <td>0</td>\n",
              "    </tr>\n",
              "    <tr>\n",
              "      <th>CUSTOMER_TYPE</th>\n",
              "      <td>EXISTING</td>\n",
              "      <td>EXISTING</td>\n",
              "      <td>NEW</td>\n",
              "      <td>EXISTING</td>\n",
              "      <td>EXISTING</td>\n",
              "    </tr>\n",
              "    <tr>\n",
              "      <th>PURCHASE_MONTH</th>\n",
              "      <td>5</td>\n",
              "      <td>5</td>\n",
              "      <td>1</td>\n",
              "      <td>7</td>\n",
              "      <td>1</td>\n",
              "    </tr>\n",
              "    <tr>\n",
              "      <th>VEHICLE_AGE</th>\n",
              "      <td>11</td>\n",
              "      <td>9</td>\n",
              "      <td>2</td>\n",
              "      <td>5</td>\n",
              "      <td>12</td>\n",
              "    </tr>\n",
              "    <tr>\n",
              "      <th>BUSINESS_TYPE</th>\n",
              "      <td>COMMERCIAL</td>\n",
              "      <td>PRIVATE</td>\n",
              "      <td>PRIVATE</td>\n",
              "      <td>PRIVATE</td>\n",
              "      <td>OTHER</td>\n",
              "    </tr>\n",
              "    <tr>\n",
              "      <th>PREVIOUS_CLAIM_COUNT</th>\n",
              "      <td>NaN</td>\n",
              "      <td>NaN</td>\n",
              "      <td>NaN</td>\n",
              "      <td>NaN</td>\n",
              "      <td>NaN</td>\n",
              "    </tr>\n",
              "    <tr>\n",
              "      <th>PREVIOUS_CLAIM_AMOUNT</th>\n",
              "      <td>NaN</td>\n",
              "      <td>NaN</td>\n",
              "      <td>NaN</td>\n",
              "      <td>NaN</td>\n",
              "      <td>NaN</td>\n",
              "    </tr>\n",
              "    <tr>\n",
              "      <th>SAME_VEHICLE_INSURED</th>\n",
              "      <td>NaN</td>\n",
              "      <td>NaN</td>\n",
              "      <td>NaN</td>\n",
              "      <td>NaN</td>\n",
              "      <td>NaN</td>\n",
              "    </tr>\n",
              "    <tr>\n",
              "      <th>PREVIOUS_POLICIES_CLAIM</th>\n",
              "      <td>NaN</td>\n",
              "      <td>NaN</td>\n",
              "      <td>NaN</td>\n",
              "      <td>NaN</td>\n",
              "      <td>NaN</td>\n",
              "    </tr>\n",
              "    <tr>\n",
              "      <th>PERIOD_TO_NEXT_POLICIES</th>\n",
              "      <td>NaT</td>\n",
              "      <td>NaT</td>\n",
              "      <td>NaT</td>\n",
              "      <td>NaT</td>\n",
              "      <td>NaT</td>\n",
              "    </tr>\n",
              "  </tbody>\n",
              "</table>\n",
              "</div>"
            ],
            "text/plain": [
              "                                                               0  ...                              4\n",
              "POLICY_WRITTEN_BRANCH                                 BRANCH_104  ...                     BRANCH_104\n",
              "POLICY_IDENTIFIER                                 POLICY_2981310  ...                 POLICY_2950161\n",
              "PREVIOUS_INSURER_NAME                             MAIN_INSURANCE  ...                 MAIN_INSURANCE\n",
              "POLICY_START_DATE                            2014-05-05 00:00:00  ...            2016-01-06 00:00:00\n",
              "POLICY_END_DATE                                       2015-05-04  ...                     2017-01-04\n",
              "CANCELLATION_DATE                                     2015-05-04  ...                     2017-01-02\n",
              "SUM_INSURED                                         7,800,000.00  ...                   4,480,000.00\n",
              "GWP                                                        69911  ...                          27824\n",
              "COMPULSORY_DEDUCTABLE                                       2000  ...                           1000\n",
              "PRODUCT                  COMMERCIAL MOTOR MISCELLANEOUS VEHICLES  ...  LONG TERM TWO WHEELER PACKAGE\n",
              "PRODUCT_CODE                                          product_ 3  ...                     product_ 7\n",
              "VEHICLE_IDENTIFIER                                VEHICLE_770218  ...                 VEHICLE_942145\n",
              "CLAIM_COUNT                                                  NaN  ...                            NaN\n",
              "CLAIM_AMOUNT                                                 NaN  ...                            NaN\n",
              "YEAR_OF_MANUFACTURE                                         2003  ...                           2004\n",
              "MAKE_OF_VEHICLE                                           TOYOTA  ...                         TOYOTA\n",
              "VEHICLE_TYPE                                                 BUS  ...                      MOTORBIKE\n",
              "SEATING_CAPACITY                                              31  ...                              2\n",
              "ENGINE_SIZE_CC                                              1320  ...                            760\n",
              "VEHICLE_GROSS_WEIGHT                                        2495  ...                           3700\n",
              "CUSTOMER_IDENTIFIER                              CUSTOMER_808252  ...                CUSTOMER_346813\n",
              "GENDER                                                         M  ...                              M\n",
              "DRIVING_EXPERIENCE                           THREE_TO_FIVE_YEARS  ...            THREE_TO_FIVE_YEARS\n",
              "TARGET                                                         0  ...                              0\n",
              "CUSTOMER_TYPE                                           EXISTING  ...                       EXISTING\n",
              "PURCHASE_MONTH                                                 5  ...                              1\n",
              "VEHICLE_AGE                                                   11  ...                             12\n",
              "BUSINESS_TYPE                                         COMMERCIAL  ...                          OTHER\n",
              "PREVIOUS_CLAIM_COUNT                                         NaN  ...                            NaN\n",
              "PREVIOUS_CLAIM_AMOUNT                                        NaN  ...                            NaN\n",
              "SAME_VEHICLE_INSURED                                         NaN  ...                            NaN\n",
              "PREVIOUS_POLICIES_CLAIM                                      NaN  ...                            NaN\n",
              "PERIOD_TO_NEXT_POLICIES                                      NaT  ...                            NaT\n",
              "\n",
              "[33 rows x 5 columns]"
            ]
          },
          "metadata": {},
          "execution_count": 26
        }
      ]
    },
    {
      "cell_type": "code",
      "metadata": {
        "id": "ziBr_n61ZOdu"
      },
      "source": [
        "temp6 = temp5[temp5.CANCELLATION_DATE.isna()]"
      ],
      "execution_count": 27,
      "outputs": []
    },
    {
      "cell_type": "code",
      "metadata": {
        "id": "dXBh5GCpFTkb"
      },
      "source": [
        "temp6['EXPERIENCE_CLAIM'] = np.where(temp6.PREVIOUS_POLICIES_CLAIM.isna(),'NEVER CLAIM','HAVE CLAIM')\n",
        "temp6['EXPERIENCE_CLAIM_SEVERITY'] = np.where(temp6.PREVIOUS_CLAIM_AMOUNT.isna(),'NEVER CLAIM',\n",
        "                                              np.where(temp6.PREVIOUS_CLAIM_AMOUNT<5000,'MINOR CLAIM',\n",
        "                                                       np.where(temp6.PREVIOUS_CLAIM_AMOUNT<20000,'SMALL CLAIM',\n",
        "                                                                np.where(temp6.PREVIOUS_CLAIM_AMOUNT<50000,'MEDIUM CLAIM','MAJOR CLAIM'\n",
        "                                                                ))))\n",
        "temp6['SAME_VEHICLE_INSURED'] = np.where(temp6.CUSTOMER_TYPE=='NEW','NEW CUSTOMER',\n",
        "                                         np.where(temp6.SAME_VEHICLE_INSURED==True,'SAME VEHICLE','DIFFERENT VEHICLE'))\n",
        "\n",
        "temp6['RENEWAL_PERIOD'] = np.where(temp6.PERIOD_TO_NEXT_POLICIES.isnull(),'NEW POLICY',\n",
        "                                 np.where(temp6.PERIOD_TO_NEXT_POLICIES.dt.days<0,'BEFORE POLICY END',\n",
        "                                          np.where(temp6.PERIOD_TO_NEXT_POLICIES.dt.days<30,'ONE MONTH BEFORE',\n",
        "                                                   np.where(temp6.PERIOD_TO_NEXT_POLICIES.dt.days<180,'SIX MONTH BEFORE',\n",
        "                                                            np.where(temp6.PERIOD_TO_NEXT_POLICIES.dt.days<360,'ONE YEAR BEFORE','MORE THAN ONE YEAR')))))\n",
        "\n",
        "temp6['PREVIOUS_POLICIES_CLAIM'] = np.where(temp6.PREVIOUS_POLICIES_CLAIM.isna(),'NEW POLICY',\n",
        "                                            np.where(temp6.PREVIOUS_POLICIES_CLAIM,'YES','NO'))"
      ],
      "execution_count": 28,
      "outputs": []
    },
    {
      "cell_type": "code",
      "metadata": {
        "colab": {
          "base_uri": "https://localhost:8080/",
          "height": 0
        },
        "id": "-auZxsPmGHMC",
        "outputId": "5b1625b8-bd0d-43cc-a508-007569c519e5"
      },
      "source": [
        "pd.pivot_table(temp6,index='PREVIOUS_POLICIES_CLAIM',aggfunc={'GWP':'count'})"
      ],
      "execution_count": 29,
      "outputs": [
        {
          "output_type": "execute_result",
          "data": {
            "text/html": [
              "<div>\n",
              "<style scoped>\n",
              "    .dataframe tbody tr th:only-of-type {\n",
              "        vertical-align: middle;\n",
              "    }\n",
              "\n",
              "    .dataframe tbody tr th {\n",
              "        vertical-align: top;\n",
              "    }\n",
              "\n",
              "    .dataframe thead th {\n",
              "        text-align: right;\n",
              "    }\n",
              "</style>\n",
              "<table border=\"1\" class=\"dataframe\">\n",
              "  <thead>\n",
              "    <tr style=\"text-align: right;\">\n",
              "      <th></th>\n",
              "      <th>GWP</th>\n",
              "    </tr>\n",
              "    <tr>\n",
              "      <th>PREVIOUS_POLICIES_CLAIM</th>\n",
              "      <th></th>\n",
              "    </tr>\n",
              "  </thead>\n",
              "  <tbody>\n",
              "    <tr>\n",
              "      <th>NEW POLICY</th>\n",
              "      <td>1073956</td>\n",
              "    </tr>\n",
              "    <tr>\n",
              "      <th>NO</th>\n",
              "      <td>652900</td>\n",
              "    </tr>\n",
              "    <tr>\n",
              "      <th>YES</th>\n",
              "      <td>53516</td>\n",
              "    </tr>\n",
              "  </tbody>\n",
              "</table>\n",
              "</div>"
            ],
            "text/plain": [
              "                             GWP\n",
              "PREVIOUS_POLICIES_CLAIM         \n",
              "NEW POLICY               1073956\n",
              "NO                        652900\n",
              "YES                        53516"
            ]
          },
          "metadata": {},
          "execution_count": 29
        }
      ]
    },
    {
      "cell_type": "code",
      "metadata": {
        "id": "92hjI8OHZ8HT"
      },
      "source": [
        "temp6.drop(['PREVIOUS_INSURER_NAME','POLICY_START_DATE','POLICY_END_DATE','CANCELLATION_DATE',\n",
        "            'PRODUCT','CLAIM_COUNT','CLAIM_AMOUNT','CUSTOMER_IDENTIFIER','VEHICLE_IDENTIFIER','PREVIOUS_CLAIM_COUNT','PREVIOUS_CLAIM_AMOUNT','PERIOD_TO_NEXT_POLICIES'],axis=1,inplace=True)\n",
        "df_model = temp6.copy()"
      ],
      "execution_count": 30,
      "outputs": []
    },
    {
      "cell_type": "code",
      "metadata": {
        "colab": {
          "base_uri": "https://localhost:8080/",
          "height": 0
        },
        "id": "Xf-jkRLPaEW4",
        "outputId": "232f8988-09ff-4fc5-db6e-65ab2965d9e9"
      },
      "source": [
        "df_model.head()"
      ],
      "execution_count": 31,
      "outputs": [
        {
          "output_type": "execute_result",
          "data": {
            "text/html": [
              "<div>\n",
              "<style scoped>\n",
              "    .dataframe tbody tr th:only-of-type {\n",
              "        vertical-align: middle;\n",
              "    }\n",
              "\n",
              "    .dataframe tbody tr th {\n",
              "        vertical-align: top;\n",
              "    }\n",
              "\n",
              "    .dataframe thead th {\n",
              "        text-align: right;\n",
              "    }\n",
              "</style>\n",
              "<table border=\"1\" class=\"dataframe\">\n",
              "  <thead>\n",
              "    <tr style=\"text-align: right;\">\n",
              "      <th></th>\n",
              "      <th>POLICY_WRITTEN_BRANCH</th>\n",
              "      <th>POLICY_IDENTIFIER</th>\n",
              "      <th>SUM_INSURED</th>\n",
              "      <th>GWP</th>\n",
              "      <th>COMPULSORY_DEDUCTABLE</th>\n",
              "      <th>PRODUCT_CODE</th>\n",
              "      <th>YEAR_OF_MANUFACTURE</th>\n",
              "      <th>MAKE_OF_VEHICLE</th>\n",
              "      <th>VEHICLE_TYPE</th>\n",
              "      <th>SEATING_CAPACITY</th>\n",
              "      <th>ENGINE_SIZE_CC</th>\n",
              "      <th>VEHICLE_GROSS_WEIGHT</th>\n",
              "      <th>GENDER</th>\n",
              "      <th>DRIVING_EXPERIENCE</th>\n",
              "      <th>TARGET</th>\n",
              "      <th>CUSTOMER_TYPE</th>\n",
              "      <th>PURCHASE_MONTH</th>\n",
              "      <th>VEHICLE_AGE</th>\n",
              "      <th>BUSINESS_TYPE</th>\n",
              "      <th>SAME_VEHICLE_INSURED</th>\n",
              "      <th>PREVIOUS_POLICIES_CLAIM</th>\n",
              "      <th>EXPERIENCE_CLAIM</th>\n",
              "      <th>EXPERIENCE_CLAIM_SEVERITY</th>\n",
              "      <th>RENEWAL_PERIOD</th>\n",
              "    </tr>\n",
              "  </thead>\n",
              "  <tbody>\n",
              "    <tr>\n",
              "      <th>1</th>\n",
              "      <td>BRANCH_104</td>\n",
              "      <td>POLICY_2746285</td>\n",
              "      <td>27,880,000.00</td>\n",
              "      <td>51831</td>\n",
              "      <td>2000</td>\n",
              "      <td>product_ 1</td>\n",
              "      <td>2007</td>\n",
              "      <td>Nissan</td>\n",
              "      <td>MOTORCAR</td>\n",
              "      <td>5</td>\n",
              "      <td>1300</td>\n",
              "      <td>64000</td>\n",
              "      <td>M</td>\n",
              "      <td>THREE_TO_FIVE_YEARS</td>\n",
              "      <td>1</td>\n",
              "      <td>EXISTING</td>\n",
              "      <td>5</td>\n",
              "      <td>9</td>\n",
              "      <td>PRIVATE</td>\n",
              "      <td>DIFFERENT VEHICLE</td>\n",
              "      <td>NEW POLICY</td>\n",
              "      <td>NEVER CLAIM</td>\n",
              "      <td>NEVER CLAIM</td>\n",
              "      <td>NEW POLICY</td>\n",
              "    </tr>\n",
              "    <tr>\n",
              "      <th>2</th>\n",
              "      <td>BRANCH_104</td>\n",
              "      <td>POLICY_2052928</td>\n",
              "      <td>380,000.00</td>\n",
              "      <td>2654</td>\n",
              "      <td>1000</td>\n",
              "      <td>product_ 2</td>\n",
              "      <td>2011</td>\n",
              "      <td>ESCORT</td>\n",
              "      <td>MOTORBIKE</td>\n",
              "      <td>1</td>\n",
              "      <td>840</td>\n",
              "      <td>41000</td>\n",
              "      <td>M</td>\n",
              "      <td>THREE_TO_FIVE_YEARS</td>\n",
              "      <td>0</td>\n",
              "      <td>NEW</td>\n",
              "      <td>1</td>\n",
              "      <td>2</td>\n",
              "      <td>PRIVATE</td>\n",
              "      <td>NEW CUSTOMER</td>\n",
              "      <td>NEW POLICY</td>\n",
              "      <td>NEVER CLAIM</td>\n",
              "      <td>NEVER CLAIM</td>\n",
              "      <td>NEW POLICY</td>\n",
              "    </tr>\n",
              "    <tr>\n",
              "      <th>3</th>\n",
              "      <td>BRANCH_104</td>\n",
              "      <td>POLICY_2507456</td>\n",
              "      <td>4,940,000.00</td>\n",
              "      <td>24377</td>\n",
              "      <td>0</td>\n",
              "      <td>product_ 1</td>\n",
              "      <td>2010</td>\n",
              "      <td>Aston Martin</td>\n",
              "      <td>MOTORCAR</td>\n",
              "      <td>3</td>\n",
              "      <td>1135</td>\n",
              "      <td>2800</td>\n",
              "      <td>F</td>\n",
              "      <td>ONE_TO_THREE_YEARS</td>\n",
              "      <td>0</td>\n",
              "      <td>EXISTING</td>\n",
              "      <td>7</td>\n",
              "      <td>5</td>\n",
              "      <td>PRIVATE</td>\n",
              "      <td>DIFFERENT VEHICLE</td>\n",
              "      <td>NEW POLICY</td>\n",
              "      <td>NEVER CLAIM</td>\n",
              "      <td>NEVER CLAIM</td>\n",
              "      <td>NEW POLICY</td>\n",
              "    </tr>\n",
              "    <tr>\n",
              "      <th>6</th>\n",
              "      <td>BRANCH_104</td>\n",
              "      <td>POLICY_2138054</td>\n",
              "      <td>220,000.00</td>\n",
              "      <td>2175</td>\n",
              "      <td>1000</td>\n",
              "      <td>product_ 6</td>\n",
              "      <td>2004</td>\n",
              "      <td>JOHN DEERE</td>\n",
              "      <td>MOTORBIKE</td>\n",
              "      <td>2</td>\n",
              "      <td>580</td>\n",
              "      <td>2100</td>\n",
              "      <td>M</td>\n",
              "      <td>FIFTEEN_YEARS_AND_ABOVE</td>\n",
              "      <td>1</td>\n",
              "      <td>NEW</td>\n",
              "      <td>3</td>\n",
              "      <td>9</td>\n",
              "      <td>OTHER</td>\n",
              "      <td>NEW CUSTOMER</td>\n",
              "      <td>NEW POLICY</td>\n",
              "      <td>NEVER CLAIM</td>\n",
              "      <td>NEVER CLAIM</td>\n",
              "      <td>NEW POLICY</td>\n",
              "    </tr>\n",
              "    <tr>\n",
              "      <th>7</th>\n",
              "      <td>BRANCH_104</td>\n",
              "      <td>POLICY_2731716</td>\n",
              "      <td>19,350,000.00</td>\n",
              "      <td>53009</td>\n",
              "      <td>1000</td>\n",
              "      <td>product_ 6</td>\n",
              "      <td>2000</td>\n",
              "      <td>DAEWOO MOTORS</td>\n",
              "      <td>MOTORBIKE</td>\n",
              "      <td>2</td>\n",
              "      <td>980</td>\n",
              "      <td>880</td>\n",
              "      <td>M</td>\n",
              "      <td>THREE_TO_FIVE_YEARS</td>\n",
              "      <td>0</td>\n",
              "      <td>EXISTING</td>\n",
              "      <td>5</td>\n",
              "      <td>16</td>\n",
              "      <td>OTHER</td>\n",
              "      <td>SAME VEHICLE</td>\n",
              "      <td>NO</td>\n",
              "      <td>HAVE CLAIM</td>\n",
              "      <td>NEVER CLAIM</td>\n",
              "      <td>BEFORE POLICY END</td>\n",
              "    </tr>\n",
              "  </tbody>\n",
              "</table>\n",
              "</div>"
            ],
            "text/plain": [
              "  POLICY_WRITTEN_BRANCH  ...     RENEWAL_PERIOD\n",
              "1            BRANCH_104  ...         NEW POLICY\n",
              "2            BRANCH_104  ...         NEW POLICY\n",
              "3            BRANCH_104  ...         NEW POLICY\n",
              "6            BRANCH_104  ...         NEW POLICY\n",
              "7            BRANCH_104  ...  BEFORE POLICY END\n",
              "\n",
              "[5 rows x 24 columns]"
            ]
          },
          "metadata": {},
          "execution_count": 31
        }
      ]
    },
    {
      "cell_type": "markdown",
      "metadata": {
        "id": "TZuAru5DDQNE"
      },
      "source": [
        "## Encode Categorical Variable"
      ]
    },
    {
      "cell_type": "code",
      "metadata": {
        "colab": {
          "base_uri": "https://localhost:8080/"
        },
        "id": "zeZ0qk7LD7d9",
        "outputId": "d3e3b9a3-8784-41d0-cdbd-135a3c83af7f"
      },
      "source": [
        "df_model.dtypes"
      ],
      "execution_count": 32,
      "outputs": [
        {
          "output_type": "execute_result",
          "data": {
            "text/plain": [
              "POLICY_WRITTEN_BRANCH         object\n",
              "POLICY_IDENTIFIER             object\n",
              "SUM_INSURED                  float64\n",
              "GWP                            int64\n",
              "COMPULSORY_DEDUCTABLE          int64\n",
              "PRODUCT_CODE                  object\n",
              "YEAR_OF_MANUFACTURE            int64\n",
              "MAKE_OF_VEHICLE               object\n",
              "VEHICLE_TYPE                  object\n",
              "SEATING_CAPACITY               int64\n",
              "ENGINE_SIZE_CC                 int64\n",
              "VEHICLE_GROSS_WEIGHT           int64\n",
              "GENDER                        object\n",
              "DRIVING_EXPERIENCE            object\n",
              "TARGET                         int64\n",
              "CUSTOMER_TYPE                 object\n",
              "PURCHASE_MONTH                 int64\n",
              "VEHICLE_AGE                    int64\n",
              "BUSINESS_TYPE                 object\n",
              "SAME_VEHICLE_INSURED          object\n",
              "PREVIOUS_POLICIES_CLAIM       object\n",
              "EXPERIENCE_CLAIM              object\n",
              "EXPERIENCE_CLAIM_SEVERITY     object\n",
              "RENEWAL_PERIOD                object\n",
              "dtype: object"
            ]
          },
          "metadata": {},
          "execution_count": 32
        }
      ]
    },
    {
      "cell_type": "code",
      "metadata": {
        "id": "ZtzyceUGDS2Z"
      },
      "source": [
        "df_numerical = df_model.select_dtypes(exclude='object')\n",
        "df_categorical = df_model.select_dtypes(include='object')\n",
        "df_numerical.drop('TARGET',axis=1,inplace=True)\n",
        "target = df_model.TARGET\n",
        "id = df_model.POLICY_IDENTIFIER"
      ],
      "execution_count": 33,
      "outputs": []
    },
    {
      "cell_type": "code",
      "metadata": {
        "colab": {
          "base_uri": "https://localhost:8080/",
          "height": 0
        },
        "id": "f2hqkYNbEUNQ",
        "outputId": "d25b9139-a49e-43eb-d4a7-2819540643cc"
      },
      "source": [
        "df_categorical.describe()"
      ],
      "execution_count": 34,
      "outputs": [
        {
          "output_type": "execute_result",
          "data": {
            "text/html": [
              "<div>\n",
              "<style scoped>\n",
              "    .dataframe tbody tr th:only-of-type {\n",
              "        vertical-align: middle;\n",
              "    }\n",
              "\n",
              "    .dataframe tbody tr th {\n",
              "        vertical-align: top;\n",
              "    }\n",
              "\n",
              "    .dataframe thead th {\n",
              "        text-align: right;\n",
              "    }\n",
              "</style>\n",
              "<table border=\"1\" class=\"dataframe\">\n",
              "  <thead>\n",
              "    <tr style=\"text-align: right;\">\n",
              "      <th></th>\n",
              "      <th>POLICY_WRITTEN_BRANCH</th>\n",
              "      <th>POLICY_IDENTIFIER</th>\n",
              "      <th>PRODUCT_CODE</th>\n",
              "      <th>MAKE_OF_VEHICLE</th>\n",
              "      <th>VEHICLE_TYPE</th>\n",
              "      <th>GENDER</th>\n",
              "      <th>DRIVING_EXPERIENCE</th>\n",
              "      <th>CUSTOMER_TYPE</th>\n",
              "      <th>BUSINESS_TYPE</th>\n",
              "      <th>SAME_VEHICLE_INSURED</th>\n",
              "      <th>PREVIOUS_POLICIES_CLAIM</th>\n",
              "      <th>EXPERIENCE_CLAIM</th>\n",
              "      <th>EXPERIENCE_CLAIM_SEVERITY</th>\n",
              "      <th>RENEWAL_PERIOD</th>\n",
              "    </tr>\n",
              "  </thead>\n",
              "  <tbody>\n",
              "    <tr>\n",
              "      <th>count</th>\n",
              "      <td>1780372</td>\n",
              "      <td>1780372</td>\n",
              "      <td>1780372</td>\n",
              "      <td>1780372</td>\n",
              "      <td>1780372</td>\n",
              "      <td>1780372</td>\n",
              "      <td>1780372</td>\n",
              "      <td>1780372</td>\n",
              "      <td>1780372</td>\n",
              "      <td>1780372</td>\n",
              "      <td>1780372</td>\n",
              "      <td>1780372</td>\n",
              "      <td>1780372</td>\n",
              "      <td>1780372</td>\n",
              "    </tr>\n",
              "    <tr>\n",
              "      <th>unique</th>\n",
              "      <td>123</td>\n",
              "      <td>1780000</td>\n",
              "      <td>7</td>\n",
              "      <td>46</td>\n",
              "      <td>4</td>\n",
              "      <td>2</td>\n",
              "      <td>6</td>\n",
              "      <td>2</td>\n",
              "      <td>3</td>\n",
              "      <td>3</td>\n",
              "      <td>3</td>\n",
              "      <td>2</td>\n",
              "      <td>5</td>\n",
              "      <td>6</td>\n",
              "    </tr>\n",
              "    <tr>\n",
              "      <th>top</th>\n",
              "      <td>BRANCH_34</td>\n",
              "      <td>POLICY_2590233</td>\n",
              "      <td>product_ 1</td>\n",
              "      <td>YAMAHA</td>\n",
              "      <td>MOTORCAR</td>\n",
              "      <td>M</td>\n",
              "      <td>THREE_TO_FIVE_YEARS</td>\n",
              "      <td>EXISTING</td>\n",
              "      <td>PRIVATE</td>\n",
              "      <td>NEW CUSTOMER</td>\n",
              "      <td>NEW POLICY</td>\n",
              "      <td>NEVER CLAIM</td>\n",
              "      <td>NEVER CLAIM</td>\n",
              "      <td>NEW POLICY</td>\n",
              "    </tr>\n",
              "    <tr>\n",
              "      <th>freq</th>\n",
              "      <td>72805</td>\n",
              "      <td>2</td>\n",
              "      <td>593684</td>\n",
              "      <td>54714</td>\n",
              "      <td>742107</td>\n",
              "      <td>1426339</td>\n",
              "      <td>1317606</td>\n",
              "      <td>977355</td>\n",
              "      <td>799947</td>\n",
              "      <td>803017</td>\n",
              "      <td>1073956</td>\n",
              "      <td>1073956</td>\n",
              "      <td>1726856</td>\n",
              "      <td>1073956</td>\n",
              "    </tr>\n",
              "  </tbody>\n",
              "</table>\n",
              "</div>"
            ],
            "text/plain": [
              "       POLICY_WRITTEN_BRANCH  ... RENEWAL_PERIOD\n",
              "count                1780372  ...        1780372\n",
              "unique                   123  ...              6\n",
              "top                BRANCH_34  ...     NEW POLICY\n",
              "freq                   72805  ...        1073956\n",
              "\n",
              "[4 rows x 14 columns]"
            ]
          },
          "metadata": {},
          "execution_count": 34
        }
      ]
    },
    {
      "cell_type": "markdown",
      "metadata": {
        "id": "6aJqxipjEqkU"
      },
      "source": [
        "Encode variable split into 2,\n",
        "1. One Hot Encode\n",
        "2. Target Encode\n",
        "3. Binary Encode "
      ]
    },
    {
      "cell_type": "code",
      "metadata": {
        "id": "IVtLkFzfE8zm"
      },
      "source": [
        "# Encode category\n",
        "onehot_encode = ['VEHICLE_TYPE','GENDER','CUSTOMER_TYPE','BUSINESS_TYPE','SAME_VEHICLE_INSURED','PREVIOUS_POLICIES_CLAIM','EXPERIENCE_CLAIM']\n",
        "target_encode = ['POLICY_WRITTEN_BRANCH','MAKE_OF_VEHICLE']\n",
        "binary_encode = ['PRODUCT_CODE','DRIVING_EXPERIENCE','EXPERIENCE_CLAIM_SEVERITY','RENEWAL_PERIOD']\n",
        "\n",
        "temp_onehot = df_categorical[onehot_encode]\n",
        "temp_target = df_categorical[target_encode]\n",
        "temp_binary = df_categorical[binary_encode]"
      ],
      "execution_count": 35,
      "outputs": []
    },
    {
      "cell_type": "code",
      "metadata": {
        "colab": {
          "base_uri": "https://localhost:8080/",
          "height": 0
        },
        "id": "3I1tKaxPdpz9",
        "outputId": "3fd73c91-8a45-4f3b-dc6e-9719e914685d"
      },
      "source": [
        "# One hot encode\n",
        "temp_onehot2 = pd.get_dummies(temp_onehot,drop_first=True)\n",
        "temp_onehot2.head()"
      ],
      "execution_count": 36,
      "outputs": [
        {
          "output_type": "execute_result",
          "data": {
            "text/html": [
              "<div>\n",
              "<style scoped>\n",
              "    .dataframe tbody tr th:only-of-type {\n",
              "        vertical-align: middle;\n",
              "    }\n",
              "\n",
              "    .dataframe tbody tr th {\n",
              "        vertical-align: top;\n",
              "    }\n",
              "\n",
              "    .dataframe thead th {\n",
              "        text-align: right;\n",
              "    }\n",
              "</style>\n",
              "<table border=\"1\" class=\"dataframe\">\n",
              "  <thead>\n",
              "    <tr style=\"text-align: right;\">\n",
              "      <th></th>\n",
              "      <th>VEHICLE_TYPE_CARRY_GOODS</th>\n",
              "      <th>VEHICLE_TYPE_MOTORBIKE</th>\n",
              "      <th>VEHICLE_TYPE_MOTORCAR</th>\n",
              "      <th>GENDER_M</th>\n",
              "      <th>CUSTOMER_TYPE_NEW</th>\n",
              "      <th>BUSINESS_TYPE_OTHER</th>\n",
              "      <th>BUSINESS_TYPE_PRIVATE</th>\n",
              "      <th>SAME_VEHICLE_INSURED_NEW CUSTOMER</th>\n",
              "      <th>SAME_VEHICLE_INSURED_SAME VEHICLE</th>\n",
              "      <th>PREVIOUS_POLICIES_CLAIM_NO</th>\n",
              "      <th>PREVIOUS_POLICIES_CLAIM_YES</th>\n",
              "      <th>EXPERIENCE_CLAIM_NEVER CLAIM</th>\n",
              "    </tr>\n",
              "  </thead>\n",
              "  <tbody>\n",
              "    <tr>\n",
              "      <th>1</th>\n",
              "      <td>0</td>\n",
              "      <td>0</td>\n",
              "      <td>1</td>\n",
              "      <td>1</td>\n",
              "      <td>0</td>\n",
              "      <td>0</td>\n",
              "      <td>1</td>\n",
              "      <td>0</td>\n",
              "      <td>0</td>\n",
              "      <td>0</td>\n",
              "      <td>0</td>\n",
              "      <td>1</td>\n",
              "    </tr>\n",
              "    <tr>\n",
              "      <th>2</th>\n",
              "      <td>0</td>\n",
              "      <td>1</td>\n",
              "      <td>0</td>\n",
              "      <td>1</td>\n",
              "      <td>1</td>\n",
              "      <td>0</td>\n",
              "      <td>1</td>\n",
              "      <td>1</td>\n",
              "      <td>0</td>\n",
              "      <td>0</td>\n",
              "      <td>0</td>\n",
              "      <td>1</td>\n",
              "    </tr>\n",
              "    <tr>\n",
              "      <th>3</th>\n",
              "      <td>0</td>\n",
              "      <td>0</td>\n",
              "      <td>1</td>\n",
              "      <td>0</td>\n",
              "      <td>0</td>\n",
              "      <td>0</td>\n",
              "      <td>1</td>\n",
              "      <td>0</td>\n",
              "      <td>0</td>\n",
              "      <td>0</td>\n",
              "      <td>0</td>\n",
              "      <td>1</td>\n",
              "    </tr>\n",
              "    <tr>\n",
              "      <th>6</th>\n",
              "      <td>0</td>\n",
              "      <td>1</td>\n",
              "      <td>0</td>\n",
              "      <td>1</td>\n",
              "      <td>1</td>\n",
              "      <td>1</td>\n",
              "      <td>0</td>\n",
              "      <td>1</td>\n",
              "      <td>0</td>\n",
              "      <td>0</td>\n",
              "      <td>0</td>\n",
              "      <td>1</td>\n",
              "    </tr>\n",
              "    <tr>\n",
              "      <th>7</th>\n",
              "      <td>0</td>\n",
              "      <td>1</td>\n",
              "      <td>0</td>\n",
              "      <td>1</td>\n",
              "      <td>0</td>\n",
              "      <td>1</td>\n",
              "      <td>0</td>\n",
              "      <td>0</td>\n",
              "      <td>1</td>\n",
              "      <td>1</td>\n",
              "      <td>0</td>\n",
              "      <td>0</td>\n",
              "    </tr>\n",
              "  </tbody>\n",
              "</table>\n",
              "</div>"
            ],
            "text/plain": [
              "   VEHICLE_TYPE_CARRY_GOODS  ...  EXPERIENCE_CLAIM_NEVER CLAIM\n",
              "1                         0  ...                             1\n",
              "2                         0  ...                             1\n",
              "3                         0  ...                             1\n",
              "6                         0  ...                             1\n",
              "7                         0  ...                             0\n",
              "\n",
              "[5 rows x 12 columns]"
            ]
          },
          "metadata": {},
          "execution_count": 36
        }
      ]
    },
    {
      "cell_type": "code",
      "metadata": {
        "id": "D2JH65HRffRU"
      },
      "source": [
        "# target encode\n",
        "\n",
        "temp_target1 = pd.pivot_table(datamart,index='POLICY_WRITTEN_BRANCH',aggfunc={'GWP':'sum','SUM_INSURED':'count','CLAIM_AMOUNT':'sum','CLAIM_COUNT':'sum'}).reset_index()\n",
        "temp_target1['LOSS_RATIO_BRANCH'] = temp_target1['CLAIM_AMOUNT']/temp_target1['GWP']\n",
        "temp_target1['INCIDENT_RATE_BRANCH'] = temp_target1['CLAIM_COUNT']/temp_target1['SUM_INSURED']\n",
        "temp_target_branch = temp_target1[['POLICY_WRITTEN_BRANCH','LOSS_RATIO_BRANCH','INCIDENT_RATE_BRANCH']]\n",
        "\n",
        "temp_target1 = pd.pivot_table(datamart,index='MAKE_OF_VEHICLE',aggfunc={'GWP':'sum','SUM_INSURED':'count','CLAIM_AMOUNT':'sum','CLAIM_COUNT':'sum'}).reset_index()\n",
        "temp_target1['LOSS_RATIO_VEHICLE'] = temp_target1['CLAIM_AMOUNT']/temp_target1['GWP']\n",
        "temp_target1['INCIDENT_RATE_VEHICLE'] = temp_target1['CLAIM_COUNT']/temp_target1['SUM_INSURED']\n",
        "temp_target_vehicle = temp_target1[['MAKE_OF_VEHICLE','LOSS_RATIO_VEHICLE','INCIDENT_RATE_VEHICLE']]\n"
      ],
      "execution_count": 37,
      "outputs": []
    },
    {
      "cell_type": "code",
      "metadata": {
        "id": "zj5gm4JtzUA3"
      },
      "source": [
        "temp_target1 = pd.merge(df_categorical[['MAKE_OF_VEHICLE','POLICY_WRITTEN_BRANCH']],temp_target_branch,how='left',on='POLICY_WRITTEN_BRANCH')\n",
        "temp_target2 = pd.merge(temp_target1,temp_target_vehicle,how='left',on='MAKE_OF_VEHICLE')"
      ],
      "execution_count": 38,
      "outputs": []
    },
    {
      "cell_type": "code",
      "metadata": {
        "id": "BRGF19zsz6kQ"
      },
      "source": [
        "# binary encode\n",
        "\n",
        "encoder= ce.BinaryEncoder(cols=binary_encode,return_df=True)\n",
        "temp_binary2=encoder.fit_transform(temp_binary) "
      ],
      "execution_count": 39,
      "outputs": []
    },
    {
      "cell_type": "code",
      "metadata": {
        "id": "QyPtyb9X0v6s"
      },
      "source": [
        "temp1 = pd.concat([target,id,df_numerical,temp_onehot2,temp_binary2,df_categorical[['MAKE_OF_VEHICLE','POLICY_WRITTEN_BRANCH']]],axis=1)\n",
        "temp2 = pd.merge(temp1,temp_target_branch,how='left',on='POLICY_WRITTEN_BRANCH')\n",
        "temp3 = pd.merge(temp2,temp_target_vehicle,how='left',on='MAKE_OF_VEHICLE')\n",
        "temp3.drop(['POLICY_WRITTEN_BRANCH','MAKE_OF_VEHICLE'],axis=1,inplace=True)\n",
        "df_encode = temp3.copy()"
      ],
      "execution_count": 40,
      "outputs": []
    },
    {
      "cell_type": "markdown",
      "metadata": {
        "id": "dbsbk1OS_KMC"
      },
      "source": [
        "## Train Test Split"
      ]
    },
    {
      "cell_type": "code",
      "metadata": {
        "id": "jiP7HwVjYDca"
      },
      "source": [
        "del datamart_clean, df_model, df_numerical, df_categorical, target, df_customer, df_historical_claims, df_open_claims, df_policies_new, df_vehicle_new"
      ],
      "execution_count": 41,
      "outputs": []
    },
    {
      "cell_type": "code",
      "metadata": {
        "id": "cZCKnbAZ_Qvu"
      },
      "source": [
        "X = df_encode.iloc[:,1:].values \n",
        "y = df_encode.iloc[:,0].values"
      ],
      "execution_count": 42,
      "outputs": []
    },
    {
      "cell_type": "code",
      "metadata": {
        "id": "_p4xk96dArqs"
      },
      "source": [
        "X_train, X_test, y_train, y_test = train_test_split(X,y,train_size=0.5)\n",
        "X_test, X_val, y_test, y_val = train_test_split(X_test,y_test,train_size=0.5)"
      ],
      "execution_count": 43,
      "outputs": []
    },
    {
      "cell_type": "code",
      "metadata": {
        "id": "AYTDqJkIc4Co"
      },
      "source": [
        "X_train_id = X_train[:,0]\n",
        "X_test_id = X_test[:,0]\n",
        "X_val_id = X_val[:,0]\n",
        "\n",
        "X_train = X_train[:,1:]\n",
        "X_test = X_test[:,1:]\n",
        "X_val = X_val[:,1:]"
      ],
      "execution_count": 44,
      "outputs": []
    },
    {
      "cell_type": "markdown",
      "metadata": {
        "id": "zq3oYV4uBkkS"
      },
      "source": [
        "## Model Training"
      ]
    },
    {
      "cell_type": "code",
      "metadata": {
        "colab": {
          "base_uri": "https://localhost:8080/"
        },
        "id": "MIyul9T4BjXQ",
        "outputId": "987a17da-05f3-4cad-ed46-d730811562c9"
      },
      "source": [
        "# Random Forest\n",
        "model_rf = RandomForestClassifier(n_estimators=5)\n",
        "model_rf.fit(X_train,y_train)"
      ],
      "execution_count": 45,
      "outputs": [
        {
          "output_type": "execute_result",
          "data": {
            "text/plain": [
              "RandomForestClassifier(bootstrap=True, ccp_alpha=0.0, class_weight=None,\n",
              "                       criterion='gini', max_depth=None, max_features='auto',\n",
              "                       max_leaf_nodes=None, max_samples=None,\n",
              "                       min_impurity_decrease=0.0, min_impurity_split=None,\n",
              "                       min_samples_leaf=1, min_samples_split=2,\n",
              "                       min_weight_fraction_leaf=0.0, n_estimators=5,\n",
              "                       n_jobs=None, oob_score=False, random_state=None,\n",
              "                       verbose=0, warm_start=False)"
            ]
          },
          "metadata": {},
          "execution_count": 45
        }
      ]
    },
    {
      "cell_type": "code",
      "metadata": {
        "colab": {
          "base_uri": "https://localhost:8080/"
        },
        "id": "yBsYYslFQ1MX",
        "outputId": "6a59a602-7097-44bf-ca1d-b1d08323ddb3"
      },
      "source": [
        "# Xgboost\n",
        "model_xgb = xgboost.XGBClassifier(objective='binary:logistic'\n",
        "                            ,learning_rate= 0.1\n",
        "                            ,max_depth= 4\n",
        "                            ,min_child_weight= 6\n",
        "                            ,reg_alpha= 0.05)\n",
        "model_xgb.fit(X_train,y_train)"
      ],
      "execution_count": 46,
      "outputs": [
        {
          "output_type": "execute_result",
          "data": {
            "text/plain": [
              "XGBClassifier(base_score=0.5, booster='gbtree', colsample_bylevel=1,\n",
              "              colsample_bynode=1, colsample_bytree=1, gamma=0,\n",
              "              learning_rate=0.1, max_delta_step=0, max_depth=4,\n",
              "              min_child_weight=6, missing=None, n_estimators=100, n_jobs=1,\n",
              "              nthread=None, objective='binary:logistic', random_state=0,\n",
              "              reg_alpha=0.05, reg_lambda=1, scale_pos_weight=1, seed=None,\n",
              "              silent=None, subsample=1, verbosity=1)"
            ]
          },
          "metadata": {},
          "execution_count": 46
        }
      ]
    },
    {
      "cell_type": "markdown",
      "metadata": {
        "id": "rfqd9388E0yl"
      },
      "source": [
        "## Model Evaluation"
      ]
    },
    {
      "cell_type": "code",
      "metadata": {
        "id": "PuJFCdf8EzOV"
      },
      "source": [
        "def model_evaluation(classfier,X,y):\n",
        "    y_proba = classfier.predict_proba(X)\n",
        "    y_pred = classfier.predict(X)\n",
        "    \n",
        "    cm = confusion_matrix(y,y_pred)\n",
        "    print('Confussin Matrix :')\n",
        "    print(cm)\n",
        "    print('\\nModel Metrics')\n",
        "    print('Accuracy   :{}'.format(accuracy_score(y,y_pred)))\n",
        "    print('Precision  :{}'.format(precision_score(y,y_pred)))\n",
        "    print('Recall     :{}'.format(recall_score(y,y_pred)))\n",
        "    print('F1         :{}'.format(f1_score(y,y_pred)))\n",
        "    print('ROC AUC    :{}'.format(roc_auc_score(y,y_pred))) "
      ],
      "execution_count": 47,
      "outputs": []
    },
    {
      "cell_type": "code",
      "metadata": {
        "colab": {
          "base_uri": "https://localhost:8080/"
        },
        "id": "29_r_AlgNNU6",
        "outputId": "51d530a2-f7c7-4b3e-f327-1054517ce3e9"
      },
      "source": [
        "print('Train')\n",
        "model_evaluation(model_rf,X_train,y_train)\n",
        "print('Test')\n",
        "model_evaluation(model_rf,X_test,y_test)\n",
        "print('Val')\n",
        "model_evaluation(model_rf,X_val,y_val)"
      ],
      "execution_count": 48,
      "outputs": [
        {
          "output_type": "stream",
          "name": "stdout",
          "text": [
            "Train\n",
            "Confussin Matrix :\n",
            "[[732747   3651]\n",
            " [ 11239 142549]]\n",
            "\n",
            "Model Metrics\n",
            "Accuracy   :0.9832731586432498\n",
            "Precision  :0.9750273597811218\n",
            "Recall     :0.9269188753348766\n",
            "F1         :0.9503646812539168\n",
            "ROC AUC    :0.960980479278089\n",
            "Test\n",
            "Confussin Matrix :\n",
            "[[344423  23675]\n",
            " [ 43471  33524]]\n",
            "\n",
            "Model Metrics\n",
            "Accuracy   :0.8491416400617399\n",
            "Precision  :0.5860941624853582\n",
            "Recall     :0.4354048964218456\n",
            "F1         :0.4996348569980774\n",
            "ROC AUC    :0.6855438926088819\n",
            "Val\n",
            "Confussin Matrix :\n",
            "[[344606  23937]\n",
            " [ 43084  33466]]\n",
            "\n",
            "Model Metrics\n",
            "Accuracy   :0.8494224802457014\n",
            "Precision  :0.5830008884553072\n",
            "Recall     :0.4371783148269105\n",
            "F1         :0.49966779392772087\n",
            "ROC AUC    :0.6861139781263708\n"
          ]
        }
      ]
    },
    {
      "cell_type": "code",
      "metadata": {
        "colab": {
          "base_uri": "https://localhost:8080/"
        },
        "id": "38RpYHbFOQFo",
        "outputId": "367a92ff-6425-428b-bb95-ebab46479739"
      },
      "source": [
        "print('Train')\n",
        "model_evaluation(model_xgb,X_train,y_train)\n",
        "print('Test')\n",
        "model_evaluation(model_xgb,X_test,y_test)\n",
        "print('Val')\n",
        "model_evaluation(model_xgb,X_val,y_val)"
      ],
      "execution_count": 49,
      "outputs": [
        {
          "output_type": "stream",
          "name": "stdout",
          "text": [
            "Train\n",
            "Confussin Matrix :\n",
            "[[736153    245]\n",
            " [120872  32916]]\n",
            "\n",
            "Model Metrics\n",
            "Accuracy   :0.8639419177565139\n",
            "Precision  :0.9926118030216218\n",
            "Recall     :0.2140349051941634\n",
            "F1         :0.3521388186082835\n",
            "ROC AUC    :0.6068511023354026\n",
            "Test\n",
            "Confussin Matrix :\n",
            "[[367980    118]\n",
            " [ 60602  16393]]\n",
            "\n",
            "Model Metrics\n",
            "Accuracy   :0.8635790722388355\n",
            "Precision  :0.9928532493489189\n",
            "Recall     :0.21290992921618287\n",
            "F1         :0.35062990610228223\n",
            "ROC AUC    :0.6062946812053019\n",
            "Val\n",
            "Confussin Matrix :\n",
            "[[368429    114]\n",
            " [ 60166  16384]]\n",
            "\n",
            "Model Metrics\n",
            "Accuracy   :0.8645676296863801\n",
            "Precision  :0.9930900715238211\n",
            "Recall     :0.2140300457217505\n",
            "F1         :0.3521623248215975\n",
            "ROC AUC    :0.6068603597686445\n"
          ]
        }
      ]
    },
    {
      "cell_type": "code",
      "metadata": {
        "colab": {
          "base_uri": "https://localhost:8080/",
          "height": 612
        },
        "id": "8fki5WIt-izZ",
        "outputId": "d89ace78-f6e0-499e-c102-8c41371aecc8"
      },
      "source": [
        "sorted_idx = model_xgb.feature_importances_.argsort()\n",
        "plt.figure(figsize=(20,10))\n",
        "plt.barh(df_encode.iloc[:,1:].columns[sorted_idx], model_xgb.feature_importances_[sorted_idx])\n",
        "plt.show()"
      ],
      "execution_count": 50,
      "outputs": [
        {
          "output_type": "display_data",
          "data": {
            "image/png": "[encoded data removed]",
            "text/plain": [
              "<Figure size 1440x720 with 1 Axes>"
            ]
          },
          "metadata": {
            "needs_background": "light"
          }
        }
      ]
    },
    {
      "cell_type": "code",
      "metadata": {
        "colab": {
          "base_uri": "https://localhost:8080/",
          "height": 602
        },
        "id": "CSJs2NhXA-so",
        "outputId": "8f58f5de-6282-419e-9182-b177dfdc9f51"
      },
      "source": [
        "shap_values = shap.TreeExplainer(model_xgb,data = df_encode.iloc[:50000,2:],model_output='probability').shap_values(df_encode.iloc[:50000,2:])\n",
        "f = plt.figure()\n",
        "shap.summary_plot(shap_values, df_encode.iloc[:50000,2:])"
      ],
      "execution_count": 52,
      "outputs": [
        {
          "output_type": "stream",
          "name": "stderr",
          "text": [
            " 99%|===================| 49717/50000 [01:28<00:00]       "
          ]
        },
        {
          "output_type": "display_data",
          "data": {
            "image/png": "[encoded data removed]",
            "text/plain": [
              "<Figure size 576x684 with 2 Axes>"
            ]
          },
          "metadata": {
            "needs_background": "light"
          }
        }
      ]
    },
    {
      "cell_type": "markdown",
      "metadata": {
        "id": "mtQImks6Mz1e"
      },
      "source": [
        "## Model Inference"
      ]
    },
    {
      "cell_type": "code",
      "metadata": {
        "id": "_2IwcIOYM64Z"
      },
      "source": [
        "# Predict Output\n",
        "y_pred_proba_train = model_xgb.predict_proba(X_train)[:,1]\n",
        "y_pred_train = model_xgb.predict(X_train)\n",
        "\n",
        "y_pred_proba_test = model_xgb.predict_proba(X_test)[:,1]\n",
        "y_pred_test = model_xgb.predict(X_test)\n",
        "\n",
        "y_pred_proba_val = model_xgb.predict_proba(X_val)[:,1]\n",
        "y_pred_val = model_xgb.predict(X_val)"
      ],
      "execution_count": 61,
      "outputs": []
    },
    {
      "cell_type": "code",
      "metadata": {
        "colab": {
          "base_uri": "https://localhost:8080/",
          "height": 265
        },
        "id": "M3ihqS4SRnM-",
        "outputId": "694ac5e9-3b04-455e-e0a4-7bdbd9a37251"
      },
      "source": [
        "plt.hist(y_pred_proba_train,bins=5)\n",
        "plt.show()"
      ],
      "execution_count": 57,
      "outputs": [
        {
          "output_type": "display_data",
          "data": {
            "image/png": "[encoded data removed]",
            "text/plain": [
              "<Figure size 432x288 with 1 Axes>"
            ]
          },
          "metadata": {
            "needs_background": "light"
          }
        }
      ]
    },
    {
      "cell_type": "code",
      "metadata": {
        "colab": {
          "base_uri": "https://localhost:8080/",
          "height": 265
        },
        "id": "LWkG9kpdR0If",
        "outputId": "372139f2-f34e-4416-e5e4-799197fd3ffe"
      },
      "source": [
        "plt.hist(y_pred_proba_test,bins=5)\n",
        "plt.show()"
      ],
      "execution_count": 58,
      "outputs": [
        {
          "output_type": "display_data",
          "data": {
            "image/png": "[encoded data removed]",
            "text/plain": [
              "<Figure size 432x288 with 1 Axes>"
            ]
          },
          "metadata": {
            "needs_background": "light"
          }
        }
      ]
    },
    {
      "cell_type": "code",
      "metadata": {
        "id": "L8Fp2o5xuJDE"
      },
      "source": [
        "# Inferencing Result\n",
        "df_result_train = pd.DataFrame(X_train_id)\n",
        "df_result_train['pred'] = y_pred_train\n",
        "df_result_train['proba'] = y_pred_proba_train\n",
        "df_result_train['actual'] = y_train\n",
        "\n",
        "df_result_test = pd.DataFrame(X_test_id)\n",
        "df_result_test['pred'] = y_pred_test\n",
        "df_result_test['proba'] = y_pred_proba_test\n",
        "df_result_test['actual'] = y_test\n",
        "\n",
        "df_result_val = pd.DataFrame(X_val_id)\n",
        "df_result_val['pred'] = y_pred_val\n",
        "df_result_val['proba'] = y_pred_proba_val\n",
        "df_result_val['actual'] = y_val"
      ],
      "execution_count": 86,
      "outputs": []
    },
    {
      "cell_type": "code",
      "metadata": {
        "id": "cvgwUegjvB-5"
      },
      "source": [
        "temp = df_result_train.append(df_result_test)\n",
        "df_result = temp.append(df_result_val)\n",
        "df_result.columns = ['POLICY_IDENTIFIER','PRED','PROBA','ACTUAL']"
      ],
      "execution_count": 88,
      "outputs": []
    },
    {
      "cell_type": "code",
      "metadata": {
        "colab": {
          "base_uri": "https://localhost:8080/",
          "height": 203
        },
        "id": "p0sOOOrnvM0d",
        "outputId": "b3dd76fb-5c58-47f5-96f7-4711d4ce8ee3"
      },
      "source": [
        "df_result.head()"
      ],
      "execution_count": 89,
      "outputs": [
        {
          "output_type": "execute_result",
          "data": {
            "text/html": [
              "<div>\n",
              "<style scoped>\n",
              "    .dataframe tbody tr th:only-of-type {\n",
              "        vertical-align: middle;\n",
              "    }\n",
              "\n",
              "    .dataframe tbody tr th {\n",
              "        vertical-align: top;\n",
              "    }\n",
              "\n",
              "    .dataframe thead th {\n",
              "        text-align: right;\n",
              "    }\n",
              "</style>\n",
              "<table border=\"1\" class=\"dataframe\">\n",
              "  <thead>\n",
              "    <tr style=\"text-align: right;\">\n",
              "      <th></th>\n",
              "      <th>POLICY_IDENTIFIER</th>\n",
              "      <th>PRED</th>\n",
              "      <th>PROBA</th>\n",
              "      <th>ACTUAL</th>\n",
              "    </tr>\n",
              "  </thead>\n",
              "  <tbody>\n",
              "    <tr>\n",
              "      <th>0</th>\n",
              "      <td>POLICY_2179960</td>\n",
              "      <td>0</td>\n",
              "      <td>0.00</td>\n",
              "      <td>0</td>\n",
              "    </tr>\n",
              "    <tr>\n",
              "      <th>1</th>\n",
              "      <td>POLICY_2398834</td>\n",
              "      <td>0</td>\n",
              "      <td>0.21</td>\n",
              "      <td>0</td>\n",
              "    </tr>\n",
              "    <tr>\n",
              "      <th>2</th>\n",
              "      <td>POLICY_2716477</td>\n",
              "      <td>0</td>\n",
              "      <td>0.29</td>\n",
              "      <td>0</td>\n",
              "    </tr>\n",
              "    <tr>\n",
              "      <th>3</th>\n",
              "      <td>POLICY_2388058</td>\n",
              "      <td>0</td>\n",
              "      <td>0.00</td>\n",
              "      <td>0</td>\n",
              "    </tr>\n",
              "    <tr>\n",
              "      <th>4</th>\n",
              "      <td>POLICY_1486915</td>\n",
              "      <td>0</td>\n",
              "      <td>0.28</td>\n",
              "      <td>0</td>\n",
              "    </tr>\n",
              "  </tbody>\n",
              "</table>\n",
              "</div>"
            ],
            "text/plain": [
              "  POLICY_IDENTIFIER  PRED  PROBA  ACTUAL\n",
              "0    POLICY_2179960     0   0.00       0\n",
              "1    POLICY_2398834     0   0.21       0\n",
              "2    POLICY_2716477     0   0.29       0\n",
              "3    POLICY_2388058     0   0.00       0\n",
              "4    POLICY_1486915     0   0.28       0"
            ]
          },
          "metadata": {},
          "execution_count": 89
        }
      ]
    },
    {
      "cell_type": "code",
      "metadata": {
        "id": "lN4TalynvyRV"
      },
      "source": [
        "datamart_pred = pd.merge(datamart,df_result,how='inner',on='POLICY_IDENTIFIER')\n",
        "\n",
        "def premium_loading(prob):\n",
        "  if prob < 0.5:\n",
        "    return 0\n",
        "  elif prob < 0.75:\n",
        "    return 25\n",
        "  elif prob <= 1:\n",
        "    return 50\n",
        "\n",
        "datamart_pred['GWP_ADJUSTED'] = datamart_pred['GWP']/(1 - datamart_pred['PROBA'].apply(premium_loading)/100 )"
      ],
      "execution_count": 104,
      "outputs": []
    },
    {
      "cell_type": "code",
      "metadata": {
        "id": "vrzm1CFwwOHv"
      },
      "source": [
        "bucket = client.get_bucket('munich_re_dev')\n",
        "bucket.blob('data/datamart_pred.csv').upload_from_string(datamart_pred.to_csv(), 'text/csv')"
      ],
      "execution_count": 91,
      "outputs": []
    },
    {
      "cell_type": "markdown",
      "metadata": {
        "id": "vjuTlpOuNqOi"
      },
      "source": [
        "# Summary"
      ]
    },
    {
      "cell_type": "markdown",
      "metadata": {
        "id": "6LRNpB0Tynqt"
      },
      "source": [
        "The model return a good performance, with precision 99%. it means, from all the policy submission, all the customer with high probability of claim, will claim. The model is evaluated by using precison because, we want to avoid giving a high premium rates to wrong customer.\n",
        "\n",
        "Model is check using 3 set of the data (Train, Test, Val) all return similar performance, hence we can conclude that the model is fit."
      ]
    },
    {
      "cell_type": "code",
      "metadata": {
        "colab": {
          "base_uri": "https://localhost:8080/"
        },
        "id": "AyrMM5o0zZHr",
        "outputId": "5e0ea398-d10f-441f-cf56-9ee6fc047233"
      },
      "source": [
        "print('Train')\n",
        "model_evaluation(model_xgb,X_train,y_train)\n",
        "print('Test')\n",
        "model_evaluation(model_xgb,X_test,y_test)\n",
        "print('Val')\n",
        "model_evaluation(model_xgb,X_val,y_val)"
      ],
      "execution_count": 93,
      "outputs": [
        {
          "output_type": "stream",
          "name": "stdout",
          "text": [
            "Train\n",
            "Confussin Matrix :\n",
            "[[736153    245]\n",
            " [120872  32916]]\n",
            "\n",
            "Model Metrics\n",
            "Accuracy   :0.8639419177565139\n",
            "Precision  :0.9926118030216218\n",
            "Recall     :0.2140349051941634\n",
            "F1         :0.3521388186082835\n",
            "ROC AUC    :0.6068511023354026\n",
            "Test\n",
            "Confussin Matrix :\n",
            "[[367980    118]\n",
            " [ 60602  16393]]\n",
            "\n",
            "Model Metrics\n",
            "Accuracy   :0.8635790722388355\n",
            "Precision  :0.9928532493489189\n",
            "Recall     :0.21290992921618287\n",
            "F1         :0.35062990610228223\n",
            "ROC AUC    :0.6062946812053019\n",
            "Val\n",
            "Confussin Matrix :\n",
            "[[368429    114]\n",
            " [ 60166  16384]]\n",
            "\n",
            "Model Metrics\n",
            "Accuracy   :0.8645676296863801\n",
            "Precision  :0.9930900715238211\n",
            "Recall     :0.2140300457217505\n",
            "F1         :0.3521623248215975\n",
            "ROC AUC    :0.6068603597686445\n"
          ]
        }
      ]
    },
    {
      "cell_type": "markdown",
      "metadata": {
        "id": "5MVbZ0fbzj0P"
      },
      "source": [
        "Using predicted probability of policy submission, customer will get a premium loading if the probability of claim is meet a threshold.\n",
        "\n",
        "Here is the thershold \n",
        "1. No Loading for probability of claim < 50%\n",
        "2. Loading 25% if probability of claim 50% < x < 75%\n",
        "3. Loading 50% if probability of claim 75% < x < 100%\n",
        "\n",
        "It means only customer with high probability of claim, will get a loading and rest of the customer with low probability of claim will pay the same amount."
      ]
    },
    {
      "cell_type": "code",
      "metadata": {
        "colab": {
          "base_uri": "https://localhost:8080/",
          "height": 265
        },
        "id": "aalPtEiIzZrr",
        "outputId": "8ec5384d-f071-4b59-880d-bc502a7173ac"
      },
      "source": [
        "plt.hist(y_pred_proba_train,bins=5)\n",
        "plt.show()"
      ],
      "execution_count": 94,
      "outputs": [
        {
          "output_type": "display_data",
          "data": {
            "image/png": "[encoded data removed]",
            "text/plain": [
              "<Figure size 432x288 with 1 Axes>"
            ]
          },
          "metadata": {
            "needs_background": "light"
          }
        }
      ]
    },
    {
      "cell_type": "code",
      "metadata": {
        "id": "wCxHIhWF0YHn"
      },
      "source": [
        ""
      ],
      "execution_count": null,
      "outputs": []
    },
    {
      "cell_type": "markdown",
      "metadata": {
        "id": "k-hdcJiS0YaW"
      },
      "source": [
        "Using this approach, we are manage to lower down the claim ratio by 3%. Loss ratio will decreased by 18%, if the customer decide to withdraw the policy application after getting adjusted GWP"
      ]
    },
    {
      "cell_type": "code",
      "metadata": {
        "colab": {
          "base_uri": "https://localhost:8080/"
        },
        "id": "poefDPRcR-p9",
        "outputId": "4d7767c9-b1a5-4a2b-e749-8ff590b12dca"
      },
      "source": [
        "claim_ratio = datamart_pred.CLAIM_AMOUNT.sum()/datamart_pred.GWP.sum()\n",
        "claim_ratio_adjusted = datamart_pred.CLAIM_AMOUNT.sum()/datamart_pred.GWP_ADJUSTED.sum()\n",
        "\n",
        "print('Customer Apply')\n",
        "print('GWP Original Loss Ratio : {}%'.format(claim_ratio * 100))\n",
        "print('GWP Adjusted Loss Ratio : {}%'.format(claim_ratio_adjusted * 100))\n",
        "\n",
        "claim_ratio = datamart_pred.CLAIM_AMOUNT.sum()/datamart_pred.GWP.sum()\n",
        "claim_ratio_adjusted = datamart_pred[datamart_pred['PRED']==0].CLAIM_AMOUNT.sum()/datamart_pred[datamart_pred['PRED']==0].GWP_ADJUSTED.sum()\n",
        "\n",
        "print('Customer Withdraw')\n",
        "print('GWP Original Loss Ratio : {}%'.format(claim_ratio * 100))\n",
        "print('GWP Adjusted Loss Ratio : {}%'.format(claim_ratio_adjusted * 100))"
      ],
      "execution_count": 109,
      "outputs": [
        {
          "output_type": "stream",
          "name": "stdout",
          "text": [
            "Customer Apply\n",
            "GWP Original Loss Ratio : 17.114309184331546%\n",
            "GWP Adjusted Loss Ratio : 16.54664451625409%\n",
            "Customer Withdraw\n",
            "GWP Original Loss Ratio : 17.114309184331546%\n",
            "GWP Adjusted Loss Ratio : 14.043189852358479%\n"
          ]
        }
      ]
    }
  ]
}